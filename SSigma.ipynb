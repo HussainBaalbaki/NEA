{
  "cells": [
    {
      "cell_type": "markdown",
      "metadata": {
        "id": "view-in-github",
        "colab_type": "text"
      },
      "source": [
        "<a href=\"https://colab.research.google.com/github/HussainBaalbaki/NEA/blob/Master/SSigma.ipynb\" target=\"_parent\"><img src=\"https://colab.research.google.com/assets/colab-badge.svg\" alt=\"Open In Colab\"/></a>"
      ]
    },
    {
      "cell_type": "code",
      "execution_count": null,
      "metadata": {
        "id": "CdffZZf1v5qV"
      },
      "outputs": [],
      "source": [
        "!pip install -U -q tensorflow tensorflow_datasets"
      ]
    },
    {
      "cell_type": "code",
      "execution_count": null,
      "metadata": {
        "id": "LT2y1opRwf_H"
      },
      "outputs": [],
      "source": [
        "import os\n",
        "import pathlib\n",
        "import gdown\n",
        "import zipfile\n",
        "import pandas as pd\n",
        "from imblearn.over_sampling import SMOTE\n",
        "from collections import Counter\n",
        "\n",
        "import matplotlib.pyplot as plt\n",
        "import numpy as np\n",
        "import seaborn as sns\n",
        "import tensorflow as tf\n",
        "\n",
        "from sklearn.utils import resample\n",
        "from tensorflow.keras import layers\n",
        "from tensorflow.keras import models\n",
        "from tensorflow.keras import regularizers\n",
        "from IPython import display\n",
        "\n",
        "#  the seed value for  reproducibility.\n",
        "seed = 42\n",
        "tf.random.set_seed(seed)\n",
        "np.random.seed(seed)"
      ]
    },
    {
      "cell_type": "code",
      "source": [
        "from google.colab import drive\n",
        "drive.mount('/content/drive')\n",
        "\n",
        "DATASET_PATH = 'drive/My Drive/data'\n",
        "\n",
        "data_dir = pathlib.Path(DATASET_PATH)\n",
        "\n",
        "commands = ['WakeWord', 'environmentnoise']\n",
        "print('Commands:', commands)\n",
        "\n",
        "def load_audio_file(file_path):\n",
        "    audio_binary = tf.io.read_file(file_path)\n",
        "\n",
        "\n",
        "    if file_path.endswith('.wav'):\n",
        "        audio, sample_rate = tf.audio.decode_wav(audio_binary)\n",
        "    elif file_path.endswith('.mp3'):\n",
        "        raise NotImplementedError(\"ERROR 1-CHECK files type\")\n",
        "    else:\n",
        "        raise ValueError(f\"Unsupported file format: {file_path}\")\n",
        "    return audio, sample_rate\n",
        "\n",
        "def preprocess(file_path):\n",
        "    audio, sample_rate = load_audio_file(file_path)\n",
        "    return audio\n",
        "\n",
        "commands = ['WakeWord', 'environmentnoise']\n",
        "print('Commands:', commands)"
      ],
      "metadata": {
        "colab": {
          "base_uri": "https://localhost:8080/"
        },
        "id": "wVhrUFOwfCEN",
        "outputId": "659b738d-8be0-4fe0-ecf6-af6393855267"
      },
      "execution_count": null,
      "outputs": [
        {
          "output_type": "stream",
          "name": "stdout",
          "text": [
            "Mounted at /content/drive\n",
            "Commands: ['WakeWord', 'environmentnoise']\n",
            "Commands: ['WakeWord', 'environmentnoise']\n"
          ]
        }
      ]
    },
    {
      "cell_type": "markdown",
      "metadata": {
        "id": "mM1V9fkfxyp4"
      },
      "source": []
    },
    {
      "cell_type": "code",
      "execution_count": null,
      "metadata": {
        "id": "NdzPasLTxGWJ",
        "colab": {
          "base_uri": "https://localhost:8080/"
        },
        "outputId": "b8ddde52-3f12-4ade-c7a1-b5ec9c6f1445"
      },
      "outputs": [
        {
          "output_type": "stream",
          "name": "stdout",
          "text": [
            "Found 6585 files belonging to 2 classes.\n",
            "Using 3951 files for training.\n",
            "Using 2634 files for validation.\n"
          ]
        }
      ],
      "source": [
        "Batch_size=1200\n",
        "Validation_split=0.4\n",
        "Output_sequence_length=16000\n",
        "\n",
        "train_ds, val_ds = tf.keras.utils.audio_dataset_from_directory(\n",
        "    directory=data_dir,\n",
        "    batch_size=Batch_size,\n",
        "    validation_split=Validation_split,\n",
        "    seed=0,\n",
        "    output_sequence_length=Output_sequence_length,\n",
        "    subset='both',\n",
        "    labels='inferred',\n",
        "    class_names=commands\n",
        ")"
      ]
    },
    {
      "cell_type": "code",
      "source": [
        "def load_dataset():\n",
        "    dataset = tf.keras.utils.audio_dataset_from_directory(\n",
        "        directory=data_dir,\n",
        "        batch_size=64,\n",
        "        validation_split=0.2,\n",
        "        seed=0,\n",
        "        output_sequence_length=16000,\n",
        "        subset='both',\n",
        "        labels='inferred'\n",
        "    )\n",
        "\n",
        "label_names = np.array(train_ds.class_names)\n",
        "print()\n",
        "print(\"Label names:\", label_names)\n"
      ],
      "metadata": {
        "id": "VWEGJMmbihJy",
        "colab": {
          "base_uri": "https://localhost:8080/"
        },
        "outputId": "24f0c7aa-e69a-4222-b8ad-fcaaf6da87c3"
      },
      "execution_count": null,
      "outputs": [
        {
          "output_type": "stream",
          "name": "stdout",
          "text": [
            "\n",
            "Label names: ['WakeWord' 'environmentnoise']\n"
          ]
        }
      ]
    },
    {
      "cell_type": "code",
      "source": [
        "def squeeze(audio, labels):\n",
        "  audio = tf.squeeze(audio, axis=-1)\n",
        "  return audio, labels"
      ],
      "metadata": {
        "id": "Ui9FFGxqpG0f"
      },
      "execution_count": null,
      "outputs": []
    },
    {
      "cell_type": "markdown",
      "source": [],
      "metadata": {
        "id": "hl1zbH0idKyC"
      }
    },
    {
      "cell_type": "code",
      "source": [
        "train_ds = train_ds.map(squeeze, tf.data.AUTOTUNE)\n",
        "val_ds = val_ds.map(squeeze, tf.data.AUTOTUNE)\n",
        "\n",
        "test_ds = val_ds.shard(num_shards=2, index=0)\n",
        "val_ds = val_ds.shard(num_shards=2, index=1)"
      ],
      "metadata": {
        "id": "TL6ohvDucf_L"
      },
      "execution_count": null,
      "outputs": []
    },
    {
      "cell_type": "markdown",
      "source": [],
      "metadata": {
        "id": "AzX06-eseJiH"
      }
    },
    {
      "cell_type": "code",
      "source": [
        "def get_spectrogram(waveform, frame_length=255, frame_step=128, desired_shape=(125, 125)):\n",
        "  spectrogram = tf.signal.stft(\n",
        "      waveform, frame_length=frame_length, frame_step=frame_step)\n",
        "  spectrogram = tf.abs(spectrogram)\n",
        "  spectrogram = spectrogram[..., tf.newaxis]\n",
        "\n",
        "  spectrogram = tf.image.resize(spectrogram, desired_shape)\n",
        "  return spectrogram\n",
        "\n",
        "for example_audio, example_labels in train_ds.take(1):\n",
        "  print(example_audio.shape)\n",
        "  print(example_labels.shape)"
      ],
      "metadata": {
        "colab": {
          "base_uri": "https://localhost:8080/"
        },
        "id": "5WHX5_PWdNuy",
        "outputId": "e690d868-2370-42c9-8c65-7ec7b827d625"
      },
      "execution_count": null,
      "outputs": [
        {
          "output_type": "stream",
          "name": "stdout",
          "text": [
            "(1200, 16000)\n",
            "(1200,)\n"
          ]
        }
      ]
    },
    {
      "cell_type": "code",
      "source": [
        "def plot_spectrogram(spectrogram, ax):\n",
        "  if len(spectrogram.shape) > 2:\n",
        "    spectrogram = np.squeeze(spectrogram, axis=-1)\n",
        "  log_spec = np.log(spectrogram.T + np.finfo(float).eps)\n",
        "  height = log_spec.shape[0]\n",
        "  width = log_spec.shape[1]\n",
        "  X = np.linspace(0, np.size(spectrogram), num=width, dtype=int)\n",
        "  Y = range(height)\n",
        "  ax.pcolormesh(X, Y, log_spec)"
      ],
      "metadata": {
        "id": "6fblfCAznACH"
      },
      "execution_count": null,
      "outputs": []
    },
    {
      "cell_type": "code",
      "execution_count": null,
      "metadata": {
        "id": "758kCLSRT-F7"
      },
      "outputs": [],
      "source": [
        "def make_spec_ds(ds):\n",
        "  return ds.map(\n",
        "      map_func=lambda audio,label: (get_spectrogram(audio), label),\n",
        "      num_parallel_calls=tf.data.AUTOTUNE)"
      ]
    },
    {
      "cell_type": "code",
      "execution_count": null,
      "metadata": {
        "id": "HsaLmM5Mt9T0"
      },
      "outputs": [],
      "source": [
        "train_spectrogram_ds = make_spec_ds(train_ds)\n",
        "val_spectrogram_ds = make_spec_ds(val_ds)\n",
        "test_spectrogram_ds = make_spec_ds(test_ds)\n",
        "\n",
        "train_spectrogram_ds = train_spectrogram_ds.cache().shuffle(10000).prefetch(tf.data.AUTOTUNE)\n",
        "val_spectrogram_ds = val_spectrogram_ds.cache().prefetch(tf.data.AUTOTUNE)\n",
        "test_spectrogram_ds = test_spectrogram_ds.cache().prefetch(tf.data.AUTOTUNE)\n",
        "\n",
        "for example_spectrograms, example_spect_labels in train_spectrogram_ds.take(1):\n",
        "    break\n"
      ]
    },
    {
      "cell_type": "markdown",
      "source": [],
      "metadata": {
        "id": "9brxhFndeQjm"
      }
    },
    {
      "cell_type": "code",
      "execution_count": null,
      "metadata": {
        "id": "bB6qE-vpIAre",
        "colab": {
          "base_uri": "https://localhost:8080/"
        },
        "outputId": "0b97857f-4079-47f3-f74e-61070b62f451"
      },
      "outputs": [
        {
          "output_type": "stream",
          "name": "stdout",
          "text": [
            "Input shape: (125, 125, 1)\n"
          ]
        }
      ],
      "source": [
        "input_shape = example_spectrograms.shape[1:]\n",
        "print('Input shape:', input_shape)\n",
        "num_labels = 1\n"
      ]
    },
    {
      "cell_type": "code",
      "source": [
        "norm_layer = layers.Normalization()\n",
        "norm_layer.adapt(data=train_spectrogram_ds.map(map_func=lambda spec, label: spec))\n"
      ],
      "metadata": {
        "id": "H6sBEhIOneTZ"
      },
      "execution_count": null,
      "outputs": []
    },
    {
      "cell_type": "markdown",
      "metadata": {
        "id": "WzNnu6viuC2w"
      },
      "source": []
    },
    {
      "cell_type": "code",
      "execution_count": null,
      "metadata": {
        "id": "h6QCShG0uABX"
      },
      "outputs": [],
      "source": [
        "\n",
        "model = models.Sequential([\n",
        "    layers.Input(shape=input_shape),\n",
        "\n",
        "    # Resize the input images to 32x32 pixels\n",
        "    layers.Resizing(32, 32),\n",
        "\n",
        "    # Normalization layer to scale input data\n",
        "    norm_layer,\n",
        "\n",
        "    # Convolutional Block 1 with L2 regularization and Dropout\n",
        "    layers.Conv2D(32, 3, activation='relu', kernel_regularizer=regularizers.l2(0.007)),\n",
        "    layers.MaxPooling2D(),\n",
        "    layers.Dropout(0.3),  # Increased dropout rate to 0.3 (edit12)\n",
        "    norm_layer,\n",
        "\n",
        "    # Flattening the output of the convolutional layers\n",
        "    layers.Flatten(),\n",
        "    # Dense Block with Dropout and L2 regularization\n",
        "    layers.Dense(64, activation='relu', kernel_regularizer=regularizers.l2(0.007)),\n",
        "    layers.Dropout(0.5),  # Increased dropout rate to 0.5\n",
        "    # Output layer with sigmoid activation for binary classification\n",
        "    layers.Dense(num_labels, activation='sigmoid')\n",
        "])"
      ]
    },
    {
      "cell_type": "code",
      "source": [
        "model.summary()"
      ],
      "metadata": {
        "colab": {
          "base_uri": "https://localhost:8080/",
          "height": 476
        },
        "id": "U4krsu_WeawY",
        "outputId": "b15cb3ac-c905-4b96-c895-b31af2c38fbe"
      },
      "execution_count": null,
      "outputs": [
        {
          "output_type": "display_data",
          "data": {
            "text/plain": [
              "\u001b[1mModel: \"sequential\"\u001b[0m\n"
            ],
            "text/html": [
              "<pre style=\"white-space:pre;overflow-x:auto;line-height:normal;font-family:Menlo,'DejaVu Sans Mono',consolas,'Courier New',monospace\"><span style=\"font-weight: bold\">Model: \"sequential\"</span>\n",
              "</pre>\n"
            ]
          },
          "metadata": {}
        },
        {
          "output_type": "display_data",
          "data": {
            "text/plain": [
              "┏━━━━━━━━━━━━━━━━━━━━━━━━━━━━━━━━━━━━━━┳━━━━━━━━━━━━━━━━━━━━━━━━━━━━━┳━━━━━━━━━━━━━━━━━┓\n",
              "┃\u001b[1m \u001b[0m\u001b[1mLayer (type)                        \u001b[0m\u001b[1m \u001b[0m┃\u001b[1m \u001b[0m\u001b[1mOutput Shape               \u001b[0m\u001b[1m \u001b[0m┃\u001b[1m \u001b[0m\u001b[1m        Param #\u001b[0m\u001b[1m \u001b[0m┃\n",
              "┡━━━━━━━━━━━━━━━━━━━━━━━━━━━━━━━━━━━━━━╇━━━━━━━━━━━━━━━━━━━━━━━━━━━━━╇━━━━━━━━━━━━━━━━━┩\n",
              "│ resizing (\u001b[38;5;33mResizing\u001b[0m)                  │ (\u001b[38;5;45mNone\u001b[0m, \u001b[38;5;34m32\u001b[0m, \u001b[38;5;34m32\u001b[0m, \u001b[38;5;34m1\u001b[0m)           │               \u001b[38;5;34m0\u001b[0m │\n",
              "├──────────────────────────────────────┼─────────────────────────────┼─────────────────┤\n",
              "│ normalization (\u001b[38;5;33mNormalization\u001b[0m)        │ (\u001b[38;5;45mNone\u001b[0m, \u001b[38;5;34m15\u001b[0m, \u001b[38;5;34m15\u001b[0m, \u001b[38;5;34m32\u001b[0m)          │               \u001b[38;5;34m3\u001b[0m │\n",
              "├──────────────────────────────────────┼─────────────────────────────┼─────────────────┤\n",
              "│ conv2d (\u001b[38;5;33mConv2D\u001b[0m)                      │ (\u001b[38;5;45mNone\u001b[0m, \u001b[38;5;34m30\u001b[0m, \u001b[38;5;34m30\u001b[0m, \u001b[38;5;34m32\u001b[0m)          │             \u001b[38;5;34m320\u001b[0m │\n",
              "├──────────────────────────────────────┼─────────────────────────────┼─────────────────┤\n",
              "│ max_pooling2d (\u001b[38;5;33mMaxPooling2D\u001b[0m)         │ (\u001b[38;5;45mNone\u001b[0m, \u001b[38;5;34m15\u001b[0m, \u001b[38;5;34m15\u001b[0m, \u001b[38;5;34m32\u001b[0m)          │               \u001b[38;5;34m0\u001b[0m │\n",
              "├──────────────────────────────────────┼─────────────────────────────┼─────────────────┤\n",
              "│ dropout (\u001b[38;5;33mDropout\u001b[0m)                    │ (\u001b[38;5;45mNone\u001b[0m, \u001b[38;5;34m15\u001b[0m, \u001b[38;5;34m15\u001b[0m, \u001b[38;5;34m32\u001b[0m)          │               \u001b[38;5;34m0\u001b[0m │\n",
              "├──────────────────────────────────────┼─────────────────────────────┼─────────────────┤\n",
              "│ normalization (\u001b[38;5;33mNormalization\u001b[0m)        │ (\u001b[38;5;45mNone\u001b[0m, \u001b[38;5;34m15\u001b[0m, \u001b[38;5;34m15\u001b[0m, \u001b[38;5;34m32\u001b[0m)          │               \u001b[38;5;34m3\u001b[0m │\n",
              "├──────────────────────────────────────┼─────────────────────────────┼─────────────────┤\n",
              "│ flatten (\u001b[38;5;33mFlatten\u001b[0m)                    │ (\u001b[38;5;45mNone\u001b[0m, \u001b[38;5;34m7200\u001b[0m)                │               \u001b[38;5;34m0\u001b[0m │\n",
              "├──────────────────────────────────────┼─────────────────────────────┼─────────────────┤\n",
              "│ dense (\u001b[38;5;33mDense\u001b[0m)                        │ (\u001b[38;5;45mNone\u001b[0m, \u001b[38;5;34m64\u001b[0m)                  │         \u001b[38;5;34m460,864\u001b[0m │\n",
              "├──────────────────────────────────────┼─────────────────────────────┼─────────────────┤\n",
              "│ dropout_1 (\u001b[38;5;33mDropout\u001b[0m)                  │ (\u001b[38;5;45mNone\u001b[0m, \u001b[38;5;34m64\u001b[0m)                  │               \u001b[38;5;34m0\u001b[0m │\n",
              "├──────────────────────────────────────┼─────────────────────────────┼─────────────────┤\n",
              "│ dense_1 (\u001b[38;5;33mDense\u001b[0m)                      │ (\u001b[38;5;45mNone\u001b[0m, \u001b[38;5;34m1\u001b[0m)                   │              \u001b[38;5;34m65\u001b[0m │\n",
              "└──────────────────────────────────────┴─────────────────────────────┴─────────────────┘\n"
            ],
            "text/html": [
              "<pre style=\"white-space:pre;overflow-x:auto;line-height:normal;font-family:Menlo,'DejaVu Sans Mono',consolas,'Courier New',monospace\">┏━━━━━━━━━━━━━━━━━━━━━━━━━━━━━━━━━━━━━━┳━━━━━━━━━━━━━━━━━━━━━━━━━━━━━┳━━━━━━━━━━━━━━━━━┓\n",
              "┃<span style=\"font-weight: bold\"> Layer (type)                         </span>┃<span style=\"font-weight: bold\"> Output Shape                </span>┃<span style=\"font-weight: bold\">         Param # </span>┃\n",
              "┡━━━━━━━━━━━━━━━━━━━━━━━━━━━━━━━━━━━━━━╇━━━━━━━━━━━━━━━━━━━━━━━━━━━━━╇━━━━━━━━━━━━━━━━━┩\n",
              "│ resizing (<span style=\"color: #0087ff; text-decoration-color: #0087ff\">Resizing</span>)                  │ (<span style=\"color: #00d7ff; text-decoration-color: #00d7ff\">None</span>, <span style=\"color: #00af00; text-decoration-color: #00af00\">32</span>, <span style=\"color: #00af00; text-decoration-color: #00af00\">32</span>, <span style=\"color: #00af00; text-decoration-color: #00af00\">1</span>)           │               <span style=\"color: #00af00; text-decoration-color: #00af00\">0</span> │\n",
              "├──────────────────────────────────────┼─────────────────────────────┼─────────────────┤\n",
              "│ normalization (<span style=\"color: #0087ff; text-decoration-color: #0087ff\">Normalization</span>)        │ (<span style=\"color: #00d7ff; text-decoration-color: #00d7ff\">None</span>, <span style=\"color: #00af00; text-decoration-color: #00af00\">15</span>, <span style=\"color: #00af00; text-decoration-color: #00af00\">15</span>, <span style=\"color: #00af00; text-decoration-color: #00af00\">32</span>)          │               <span style=\"color: #00af00; text-decoration-color: #00af00\">3</span> │\n",
              "├──────────────────────────────────────┼─────────────────────────────┼─────────────────┤\n",
              "│ conv2d (<span style=\"color: #0087ff; text-decoration-color: #0087ff\">Conv2D</span>)                      │ (<span style=\"color: #00d7ff; text-decoration-color: #00d7ff\">None</span>, <span style=\"color: #00af00; text-decoration-color: #00af00\">30</span>, <span style=\"color: #00af00; text-decoration-color: #00af00\">30</span>, <span style=\"color: #00af00; text-decoration-color: #00af00\">32</span>)          │             <span style=\"color: #00af00; text-decoration-color: #00af00\">320</span> │\n",
              "├──────────────────────────────────────┼─────────────────────────────┼─────────────────┤\n",
              "│ max_pooling2d (<span style=\"color: #0087ff; text-decoration-color: #0087ff\">MaxPooling2D</span>)         │ (<span style=\"color: #00d7ff; text-decoration-color: #00d7ff\">None</span>, <span style=\"color: #00af00; text-decoration-color: #00af00\">15</span>, <span style=\"color: #00af00; text-decoration-color: #00af00\">15</span>, <span style=\"color: #00af00; text-decoration-color: #00af00\">32</span>)          │               <span style=\"color: #00af00; text-decoration-color: #00af00\">0</span> │\n",
              "├──────────────────────────────────────┼─────────────────────────────┼─────────────────┤\n",
              "│ dropout (<span style=\"color: #0087ff; text-decoration-color: #0087ff\">Dropout</span>)                    │ (<span style=\"color: #00d7ff; text-decoration-color: #00d7ff\">None</span>, <span style=\"color: #00af00; text-decoration-color: #00af00\">15</span>, <span style=\"color: #00af00; text-decoration-color: #00af00\">15</span>, <span style=\"color: #00af00; text-decoration-color: #00af00\">32</span>)          │               <span style=\"color: #00af00; text-decoration-color: #00af00\">0</span> │\n",
              "├──────────────────────────────────────┼─────────────────────────────┼─────────────────┤\n",
              "│ normalization (<span style=\"color: #0087ff; text-decoration-color: #0087ff\">Normalization</span>)        │ (<span style=\"color: #00d7ff; text-decoration-color: #00d7ff\">None</span>, <span style=\"color: #00af00; text-decoration-color: #00af00\">15</span>, <span style=\"color: #00af00; text-decoration-color: #00af00\">15</span>, <span style=\"color: #00af00; text-decoration-color: #00af00\">32</span>)          │               <span style=\"color: #00af00; text-decoration-color: #00af00\">3</span> │\n",
              "├──────────────────────────────────────┼─────────────────────────────┼─────────────────┤\n",
              "│ flatten (<span style=\"color: #0087ff; text-decoration-color: #0087ff\">Flatten</span>)                    │ (<span style=\"color: #00d7ff; text-decoration-color: #00d7ff\">None</span>, <span style=\"color: #00af00; text-decoration-color: #00af00\">7200</span>)                │               <span style=\"color: #00af00; text-decoration-color: #00af00\">0</span> │\n",
              "├──────────────────────────────────────┼─────────────────────────────┼─────────────────┤\n",
              "│ dense (<span style=\"color: #0087ff; text-decoration-color: #0087ff\">Dense</span>)                        │ (<span style=\"color: #00d7ff; text-decoration-color: #00d7ff\">None</span>, <span style=\"color: #00af00; text-decoration-color: #00af00\">64</span>)                  │         <span style=\"color: #00af00; text-decoration-color: #00af00\">460,864</span> │\n",
              "├──────────────────────────────────────┼─────────────────────────────┼─────────────────┤\n",
              "│ dropout_1 (<span style=\"color: #0087ff; text-decoration-color: #0087ff\">Dropout</span>)                  │ (<span style=\"color: #00d7ff; text-decoration-color: #00d7ff\">None</span>, <span style=\"color: #00af00; text-decoration-color: #00af00\">64</span>)                  │               <span style=\"color: #00af00; text-decoration-color: #00af00\">0</span> │\n",
              "├──────────────────────────────────────┼─────────────────────────────┼─────────────────┤\n",
              "│ dense_1 (<span style=\"color: #0087ff; text-decoration-color: #0087ff\">Dense</span>)                      │ (<span style=\"color: #00d7ff; text-decoration-color: #00d7ff\">None</span>, <span style=\"color: #00af00; text-decoration-color: #00af00\">1</span>)                   │              <span style=\"color: #00af00; text-decoration-color: #00af00\">65</span> │\n",
              "└──────────────────────────────────────┴─────────────────────────────┴─────────────────┘\n",
              "</pre>\n"
            ]
          },
          "metadata": {}
        },
        {
          "output_type": "display_data",
          "data": {
            "text/plain": [
              "\u001b[1m Total params: \u001b[0m\u001b[38;5;34m461,252\u001b[0m (1.76 MB)\n"
            ],
            "text/html": [
              "<pre style=\"white-space:pre;overflow-x:auto;line-height:normal;font-family:Menlo,'DejaVu Sans Mono',consolas,'Courier New',monospace\"><span style=\"font-weight: bold\"> Total params: </span><span style=\"color: #00af00; text-decoration-color: #00af00\">461,252</span> (1.76 MB)\n",
              "</pre>\n"
            ]
          },
          "metadata": {}
        },
        {
          "output_type": "display_data",
          "data": {
            "text/plain": [
              "\u001b[1m Trainable params: \u001b[0m\u001b[38;5;34m461,249\u001b[0m (1.76 MB)\n"
            ],
            "text/html": [
              "<pre style=\"white-space:pre;overflow-x:auto;line-height:normal;font-family:Menlo,'DejaVu Sans Mono',consolas,'Courier New',monospace\"><span style=\"font-weight: bold\"> Trainable params: </span><span style=\"color: #00af00; text-decoration-color: #00af00\">461,249</span> (1.76 MB)\n",
              "</pre>\n"
            ]
          },
          "metadata": {}
        },
        {
          "output_type": "display_data",
          "data": {
            "text/plain": [
              "\u001b[1m Non-trainable params: \u001b[0m\u001b[38;5;34m3\u001b[0m (16.00 B)\n"
            ],
            "text/html": [
              "<pre style=\"white-space:pre;overflow-x:auto;line-height:normal;font-family:Menlo,'DejaVu Sans Mono',consolas,'Courier New',monospace\"><span style=\"font-weight: bold\"> Non-trainable params: </span><span style=\"color: #00af00; text-decoration-color: #00af00\">3</span> (16.00 B)\n",
              "</pre>\n"
            ]
          },
          "metadata": {}
        }
      ]
    },
    {
      "cell_type": "code",
      "execution_count": null,
      "metadata": {
        "id": "5JzIq6xYuV0B"
      },
      "outputs": [],
      "source": [
        "model.compile(                                                                    # Binary loss function difference between the true labels \"WakeWord\", \"enviromentnoise\" and prediction\n",
        "    optimizer=tf.keras.optimizers.Adam(),                                         # sigma function fr add images of the function + explination\n",
        "    loss=tf.keras.losses.BinaryCrossentropy(from_logits=False),\n",
        "    metrics=['accuracy'],\n",
        ")"
      ]
    },
    {
      "cell_type": "code",
      "execution_count": null,
      "metadata": {
        "id": "Gsb5EJnsuUQj",
        "colab": {
          "base_uri": "https://localhost:8080/"
        },
        "outputId": "fb5831ba-9f96-4d84-fe92-fedd9081e350"
      },
      "outputs": [
        {
          "output_type": "stream",
          "name": "stdout",
          "text": [
            "Epoch 1/15\n",
            "\u001b[1m4/4\u001b[0m \u001b[32m━━━━━━━━━━━━━━━━━━━━\u001b[0m\u001b[37m\u001b[0m \u001b[1m0s\u001b[0m 40ms/step - accuracy: 0.6654 - loss: 1.0561 - val_accuracy: 0.6517 - val_loss: 0.7290\n",
            "Epoch 2/15\n",
            "\u001b[1m4/4\u001b[0m \u001b[32m━━━━━━━━━━━━━━━━━━━━\u001b[0m\u001b[37m\u001b[0m \u001b[1m0s\u001b[0m 51ms/step - accuracy: 0.6662 - loss: 1.0439 - val_accuracy: 0.6517 - val_loss: 0.7183\n",
            "Epoch 3/15\n",
            "\u001b[1m4/4\u001b[0m \u001b[32m━━━━━━━━━━━━━━━━━━━━\u001b[0m\u001b[37m\u001b[0m \u001b[1m0s\u001b[0m 38ms/step - accuracy: 0.6617 - loss: 1.1116 - val_accuracy: 0.6517 - val_loss: 0.7370\n",
            "Epoch 4/15\n",
            "\u001b[1m4/4\u001b[0m \u001b[32m━━━━━━━━━━━━━━━━━━━━\u001b[0m\u001b[37m\u001b[0m \u001b[1m0s\u001b[0m 58ms/step - accuracy: 0.6655 - loss: 1.0936 - val_accuracy: 0.6517 - val_loss: 0.6786\n",
            "Epoch 5/15\n",
            "\u001b[1m4/4\u001b[0m \u001b[32m━━━━━━━━━━━━━━━━━━━━\u001b[0m\u001b[37m\u001b[0m \u001b[1m0s\u001b[0m 40ms/step - accuracy: 0.6559 - loss: 1.0793 - val_accuracy: 0.6517 - val_loss: 0.6975\n",
            "Epoch 6/15\n",
            "\u001b[1m4/4\u001b[0m \u001b[32m━━━━━━━━━━━━━━━━━━━━\u001b[0m\u001b[37m\u001b[0m \u001b[1m0s\u001b[0m 52ms/step - accuracy: 0.6652 - loss: 1.0619 - val_accuracy: 0.6517 - val_loss: 0.7441\n",
            "Epoch 7/15\n",
            "\u001b[1m4/4\u001b[0m \u001b[32m━━━━━━━━━━━━━━━━━━━━\u001b[0m\u001b[37m\u001b[0m \u001b[1m0s\u001b[0m 39ms/step - accuracy: 0.6667 - loss: 1.0308 - val_accuracy: 0.6517 - val_loss: 0.6821\n",
            "Epoch 8/15\n",
            "\u001b[1m4/4\u001b[0m \u001b[32m━━━━━━━━━━━━━━━━━━━━\u001b[0m\u001b[37m\u001b[0m \u001b[1m0s\u001b[0m 38ms/step - accuracy: 0.6539 - loss: 1.0488 - val_accuracy: 0.6517 - val_loss: 0.7420\n",
            "Epoch 9/15\n",
            "\u001b[1m4/4\u001b[0m \u001b[32m━━━━━━━━━━━━━━━━━━━━\u001b[0m\u001b[37m\u001b[0m \u001b[1m0s\u001b[0m 54ms/step - accuracy: 0.6564 - loss: 1.0750 - val_accuracy: 0.6517 - val_loss: 0.6832\n",
            "Epoch 10/15\n",
            "\u001b[1m4/4\u001b[0m \u001b[32m━━━━━━━━━━━━━━━━━━━━\u001b[0m\u001b[37m\u001b[0m \u001b[1m0s\u001b[0m 60ms/step - accuracy: 0.6688 - loss: 1.0361 - val_accuracy: 0.6517 - val_loss: 0.6991\n",
            "Epoch 11/15\n",
            "\u001b[1m4/4\u001b[0m \u001b[32m━━━━━━━━━━━━━━━━━━━━\u001b[0m\u001b[37m\u001b[0m \u001b[1m0s\u001b[0m 43ms/step - accuracy: 0.6679 - loss: 1.0396 - val_accuracy: 0.6517 - val_loss: 0.6773\n",
            "Epoch 12/15\n",
            "\u001b[1m4/4\u001b[0m \u001b[32m━━━━━━━━━━━━━━━━━━━━\u001b[0m\u001b[37m\u001b[0m \u001b[1m0s\u001b[0m 71ms/step - accuracy: 0.6584 - loss: 1.0744 - val_accuracy: 0.6517 - val_loss: 0.7538\n",
            "Epoch 13/15\n",
            "\u001b[1m4/4\u001b[0m \u001b[32m━━━━━━━━━━━━━━━━━━━━\u001b[0m\u001b[37m\u001b[0m \u001b[1m0s\u001b[0m 70ms/step - accuracy: 0.6611 - loss: 1.0489 - val_accuracy: 0.6517 - val_loss: 0.6929\n",
            "Epoch 14/15\n",
            "\u001b[1m4/4\u001b[0m \u001b[32m━━━━━━━━━━━━━━━━━━━━\u001b[0m\u001b[37m\u001b[0m \u001b[1m0s\u001b[0m 62ms/step - accuracy: 0.6607 - loss: 1.0940 - val_accuracy: 0.6517 - val_loss: 0.6663\n",
            "Epoch 15/15\n",
            "\u001b[1m4/4\u001b[0m \u001b[32m━━━━━━━━━━━━━━━━━━━━\u001b[0m\u001b[37m\u001b[0m \u001b[1m0s\u001b[0m 67ms/step - accuracy: 0.6613 - loss: 1.0963 - val_accuracy: 0.6517 - val_loss: 0.7079\n"
          ]
        }
      ],
      "source": [
        "class_weights = {0: 1.0, 1: 22.0}\n",
        "\n",
        "EPOCHS = 15\n",
        "\n",
        "history = model.fit(\n",
        "    train_spectrogram_ds,\n",
        "    validation_data=val_spectrogram_ds,\n",
        "    epochs=EPOCHS,\n",
        "    class_weight=class_weights,\n",
        "    ##callbacks=[early_stopping_callback],\n",
        ")\n"
      ]
    },
    {
      "cell_type": "code",
      "source": [
        "metrics = history.history\n",
        "plt.figure(figsize=(16,6))\n",
        "plt.subplot(1,2,1)\n",
        "plt.plot(history.epoch, metrics['loss'], metrics['val_loss'])\n",
        "plt.legend(['loss', 'val_loss'])\n",
        "plt.ylim([0, max(plt.ylim())])\n",
        "plt.xlabel('Epoch')\n",
        "plt.ylabel('Loss [BinaryCrossEntropy]')\n",
        "\n",
        "plt.subplot(1,2,2)\n",
        "plt.plot(history.epoch, 100*np.array(metrics['accuracy']), 100*np.array(metrics['val_accuracy']))\n",
        "plt.legend(['accuracy', 'val_accuracy'])\n",
        "plt.ylim([0, 100])\n",
        "plt.xlabel('Epoch')\n",
        "plt.ylabel('Accuracy [%]')\n",
        "\n",
        "model.evaluate(test_spectrogram_ds, return_dict=True)"
      ],
      "metadata": {
        "colab": {
          "base_uri": "https://localhost:8080/",
          "height": 498
        },
        "id": "TG7SizFregNP",
        "outputId": "d57cc337-a176-478c-87af-7d9f80c16537"
      },
      "execution_count": null,
      "outputs": [
        {
          "output_type": "stream",
          "name": "stdout",
          "text": [
            "\u001b[1m2/2\u001b[0m \u001b[32m━━━━━━━━━━━━━━━━━━━━\u001b[0m\u001b[37m\u001b[0m \u001b[1m0s\u001b[0m 21ms/step - accuracy: 0.6874 - loss: 0.6519\n"
          ]
        },
        {
          "output_type": "execute_result",
          "data": {
            "text/plain": [
              "{'accuracy': 0.6868898272514343, 'loss': 0.6529470086097717}"
            ]
          },
          "metadata": {},
          "execution_count": 49
        },
        {
          "output_type": "display_data",
          "data": {
            "text/plain": [
              "<Figure size 1600x600 with 2 Axes>"
            ],
            "image/png": "[encoded data removed]"
          },
          "metadata": {}
        }
      ]
    },
    {
      "cell_type": "code",
      "execution_count": null,
      "metadata": {
        "id": "lss8vQyaubVh",
        "colab": {
          "base_uri": "https://localhost:8080/"
        },
        "outputId": "923e94fd-3ad9-4676-a8e9-ed7004568497"
      },
      "outputs": [
        {
          "output_type": "stream",
          "name": "stdout",
          "text": [
            "\u001b[1m2/2\u001b[0m \u001b[32m━━━━━━━━━━━━━━━━━━━━\u001b[0m\u001b[37m\u001b[0m \u001b[1m1s\u001b[0m 298ms/step\n"
          ]
        }
      ],
      "source": [
        "y_pred = model.predict(test_spectrogram_ds)"
      ]
    },
    {
      "cell_type": "code",
      "execution_count": null,
      "metadata": {
        "id": "OHBzzrulug-p"
      },
      "outputs": [],
      "source": [
        "y_pred = tf.argmax(y_pred, axis=1)"
      ]
    },
    {
      "cell_type": "code",
      "execution_count": null,
      "metadata": {
        "id": "0jCE9YAnuisR"
      },
      "outputs": [],
      "source": [
        "y_true = tf.concat(list(test_spectrogram_ds.map(lambda s, lab: lab)), axis=0)"
      ]
    },
    {
      "cell_type": "code",
      "execution_count": null,
      "metadata": {
        "id": "j73egnhGukn1",
        "colab": {
          "base_uri": "https://localhost:8080/",
          "height": 696
        },
        "outputId": "b4287888-ef23-447c-97cf-63b9834f291e"
      },
      "outputs": [
        {
          "output_type": "display_data",
          "data": {
            "text/plain": [
              "<Figure size 1000x800 with 2 Axes>"
            ],
            "image/png": "[encoded data removed]"
          },
          "metadata": {}
        }
      ],
      "source": [
        "confusion_mtx = tf.math.confusion_matrix(y_true, y_pred)\n",
        "plt.figure(figsize=(10, 8))\n",
        "sns.heatmap(confusion_mtx,\n",
        "            xticklabels=['Non-Wake Word', 'Wake Word'],\n",
        "            yticklabels=['Non-Wake Word', 'Wake Word'],\n",
        "            annot=True, fmt='g')\n",
        "plt.xlabel('Prediction')\n",
        "plt.ylabel('Label')\n",
        "plt.show()"
      ]
    },
    {
      "cell_type": "code",
      "execution_count": null,
      "metadata": {
        "id": "xL295f6kunhM"
      },
      "outputs": [],
      "source": [
        "x = data_dir/'WakeWord/david_20240831_014725_louder - Copy (5) - Copy.wav'\n",
        "x = tf.io.read_file(str(x))\n",
        "x, sample_rate = tf.audio.decode_wav(x, desired_channels=1, desired_samples=16000,)\n",
        "x = tf.squeeze(x, axis=-1)\n",
        "waveform = x\n",
        "x = get_spectrogram(x)\n",
        "x = x[tf.newaxis,...]\n"
      ]
    },
    {
      "cell_type": "code",
      "execution_count": null,
      "metadata": {
        "id": "-xxafL06upb4",
        "colab": {
          "base_uri": "https://localhost:8080/",
          "height": 93
        },
        "outputId": "63243456-3ca5-47ea-a58f-f6fe063b27cb"
      },
      "outputs": [
        {
          "output_type": "stream",
          "name": "stdout",
          "text": [
            "Prediction: [[0.]] (0=Non-Wake Word, 1=Wake Word)\n"
          ]
        },
        {
          "output_type": "display_data",
          "data": {
            "text/plain": [
              "<IPython.lib.display.Audio object>"
            ],
            "text/html": [
              "\n",
              "                <audio  controls=\"controls\" >\n",
              "                    <source src=\"data:audio/wav;base64,UklGRiR9AABXQVZFZm10IBAAAAABAAEAgD4AAAB9AAACABAAZGF0YQB9AAAAAAAAAAAAAAAAAAAAAAAAAAAAAAAAAAAAAAAAAAAAAAAAAAAAAAAAAAAAAAAAAAAAAAAAAAAAAAAAAAAAAAAAAAAAAAAAAAAAAAAAAAAAAAAAAAAAAAAAAAAAAAAAAAAAAAAAAAAAAAAAAAAAAAAAAAAAAAAAAAAAAAAAAAAAAAAAAAAAAAAAAAAAAAAAAAAAAAAAAAAAAAAAAAAAAAAAAAAAAAAAAAAAAAAAAAAAAAAAAAAAAAAAAAAAAAAAAAAAAAAAAAAAAAAAAAAAAAAAAAAAAAAAAAAAAAAAAAAAAAAAAAAAAAAAAAAAAAAAAAAAAAAAAAAAAAAAAAAAAAAAAAAAAAAAAAAAAAAAAAAAAAAAAAAAAAAAAAAAAAAAAAAAAAAAAAAAAAAAAAAAAAAAAAAAAAAAAAAAAAAAAAAAAAAAAAAAAAAAAAAAAAAAAAAAAAAAAAAAAAAAAAAAAAAAAAAAAAAAAAAAAAAAAAAAAAAAAAAAAAAAAAAAAAAAAAAAAAAAAAAAAAAAAAAAAAAAAAAAAAAAAAAAAAAAAAAAAAAAAAAAAAAAAAAAAAAAAAAAAAAAAAAAAAAAAAAAAAAAAAAAAAAAAAAAAAAAAAAAAAAAAAAAAAAAAAAAAAAAAAAAAAAAAAAAAAAAAAAAAAAAAAAAAAAAAAAAAAAAAAAAAAAAAAAAAAAAAAAAAAAAAAAAAAAAAAAAAAAAAAAAAAAAAAAAAAAAAAAAAAAAAAAAAAAAAAAAAAAAAAAAAAAAAAAAAAAAAAAAAAAAAAAAAAAAAAAAAAAAAAAAAAAAAAAAAAAAAAAAAAAAAAAAAAAAAAAAAAAAAAAAAAAAAAAAAAAAAAAAAAAAAAAAAAAAAAAAAAAAAAAAAAAAAAAAAAAAAAAAAAAAAAAAAAAAAAAAAAAAAAAAAAAAAAAAAAAAAAAAAAAAAAAAAAAAAAAAAAAAAAAAAAAAAAAAAAAAAAAAAAAAAAAAAAAAAAAAAAAAAAAAAAAAAAAAAAAAAAAAAAAAAAAAAAAAAAAAAAAAAAAAAAAAAAAAAAAAAAAAAAAAAAAAAAAAAAAAAAAAAAAAAAAAAAAAAAAAAAAAAAAAAAAAAAAAAAAAAAAAAAAAAAAAAAAAAAAAAAAAAAAAAAAAAAAAAAAAAAAAAAAAAAAAAAAAAAAAAAAAAAAAAAAAAAAAAAAAAAAAAAAAAAAAAAAAAAAAAAAAAAAAAAAAAAAAAAAAAAAAAAAAAAAAAAAAAAAAAAAAAAAAAAAAAAAAAAAAAAAAAAAAAAAAAAAAAAAAAAAAAAAAAAAAAAAAAAAAAAAAAAAAAAAAAAAAAAAAAAAAAAAAAAAAAAAAAAAAAAAAAAAAAAAAAAAAAAAAAAAAAAAAAAAAAAAAAAAAAAAAAAAAAAAAAAAAAAAAAAAAAAAAAAAAAAAAAAAAAAAAAAAAAAAAAAAAAAAAAAAAAAAAAAAAAAAAAAAAAAAAAAAAAAAAAAAAAAAAAAAAAAAAAAAAAAAAAAAAAAAAAAAAAAAAAAAAAAAAAAAAAAAAAAAAAAAAAAAAAAAAAAAAAAAAAAAAAAAAAAAAAAAAAAAAAAAAAAAAAAAAAAAAAAAAAAAAAAAAAAAAAAAAAAAAAAAAAAAAAAAAAAAAAAAAAAAAAAAAAAAAAAAAAAAAAAAAAAAAAAAAAAAAAAAAAAAAAAAAAAAAAAAAAAAAAAAAAAAAAAAAAAAAAAAAAAAAAAAAAAAAAAAAAAAAAAAAAAAAAAAAAAAAAAAAAAAAAAAAAAAAAAAAAAAAAAAAAAAAAAAAAAAAAAAAAAAAAAAAAAAAAAAAAAAAAAAAAAAAAAAAAAAAAAAAAAAAAAAAAAAAAAAAAAAAAAAAAAAAAAAAAAAAAAAAAAAAAAAAAAAAAAAAAAAAAAAAAAAAAAAAAAAAAAAAAAAAAAAAAAAAAAAAAAAAAAAAAAAAAAAAAAAAAAAAAAAAAAAAAAAAAAAAAAAAAAAAAAAAAAAAAAAAAAAAAAAAAAAAAAAAAAAAAAAAAAAAAAAAAAAAAAAAAAAAAAAAAAAAAAAAAPf/AAAJAAkAAAAAAPf/9//3/+3/4//j//f/AAAAAAAAAAAAAO3/4/8AAAkAAAAdAAkA7f8AAAkA9/8JADEAHQAAAAAAAAAAAAAAAAAAAAAAAAAJAB0AEwAAAAAAEwAdAAkAAAAAAAAACQAJAAkAAAAAAB0AEwAAAAAACQAJAAkAAAAAAAAAAAAAAAAAAAAAAAAAAAAAAAAAAAAAAAAAEwAdAAAA9/8AAAAA9//3/wAAAAAAAAAAAAAAAAAA9//3/wAAAAAAAAkAAAAJAAkA9//3/wkACQAAAAkACQAAAAAAAAAAAAkAAAD3/wAAAAD3//f/AAAAAAAAAAAJAAkACQAAAPf/EwAdAAAACQAAAOP/9/8JAPf/AAAdABMAAAAAAAAAAAAAAAAAAAAAAAAAAADj/+3/CQATAAkACQAJAAAAAAAJAAAAAAATAB0AEwAJAB0AHQAJAAAAAAAAAAkACQAAAAAACQAJAAAA9/8JAB0ACQD3/wAAAAAAAAAAAAAAAAAAAAAAAAAA9//3/wkA9//j//f/9//3/wAAAAAAAAAAAAAAAAAA7f/j/+P/7f/3/+P/7f8AAAAA9/8AAAAAAAAJAAkAAAAAAAAAAAD3/+P/7f8AAAAAAAATAB0AAAAAAAAA9/8JAAkAAAAAAAAAAAAJAAAAAAAAAAAAAAAAAO3/4//t/wAAAAAAAAkACQAAAPf/AAAAAAAAEwATAAAAAAAJAPf/AAAnAB0A9/8AAAkACQAAAAAAAAAAAAAAAAATAB0AAAD3/wkAHQAJAAAAAAAAAAkACQAJAAAAAAAJAAkAAAAAAAkACQAJAAkAAAAAAAAAAAAAAAAAAAAAAAAAAAD3//f/AAAAAAkAHQAJAPf/9/8AAAAA7f8AADEACQDj/wkAEwAAAAAA9//3/wkAHQAJAAkACQAAAAAAAAAAAAkAAAD3//f/9//3/wkAHQAdABMACQAAAAAAAAD3/+P/9/8JAAAAAAAAAAAACQAJAAAAAAAJAAkAAAAAAAAAAAD3//f/9/8AAAkAAAD3//f/AAAAAAAACQAAAAAAAAD3/wAACQAAAAAACQD3//f/HQATAPf/9//3//f/AAD3//f/CQAAAOP/7f8AAAAAAAAAAAAAAAD3//f/AAD3//f/AAD3//f/AAAAAPf/AAAJAAAAAAAAAAAAAAD3//f/9//3//f/AAAAAAAAAAAAAPf/9/8JAAkAAAAAAAAAAAAAAAAAAAAAAAAAEwAdAB0ACQAAAAAAAAAAAAAAAAD3//f/AAAAAAAAAAAAAAAAAAAAAAkACQAAAAAAAAAAAAkAAAAAAAkACQAAAAAAAAAJAAkAAAAAAAAA7f/j/wAACQAAAPf/9/8AAAAAAAAAAPf/9/8AAAAAAAAAAPf/9/8JAAkA9/8AAAAA9/8AAAAAAAAAAPf/9/8AAPf/9/8AAAAAAAAAAAAAAAAJAAkAAAAAAAAAAAAAAAkACQAAAAAAAAAAAAAACQAJAAkACQAAAAAACQAAAAAAAAAJAAAAAAAAAAkACQAAAAAAAADt/+P/AAAAAPf/9//3/wAACQAJAAAA9//3/wAAAAAAAAAA9//3/wkACQD3/wAAAAD3/wAAAAAAAAAA9//3/wAA9//3/wAAAAAAAAAAAAAAAAkACQAAAAAAAAAAAAkACQAJAAkAAAAJAAkAAAAJAAkAAAAAABMAEwAAAPf/AAAJAAAAAAAAAAAAAAD3//f/AAD3//f/9/8AABMAOwA7AAAA9/8AAAAACQAJAPf/9/8AAAAAAAAAAAAAAAAAAAAAEwAdAAAAAAAAAPf/CQAJAAAAAAAJAAkAAAAAAAkACQAJAAAAAAD3/+P/9/8JAAAA9//3//f/AAAJAAkA9//3/wAAAAAAAAAA9//3/wAACQAAAPf/AAD3//f/AAAAAAAAAAD3/wAAAAD3/wAAAAAAAAAAAAAAAAAACQAAAAAAAAAAAAkACQAJAAkACQAJAAkACQAJAAkAAAD3/wkAHQAJAPf/AAAJAAAAAAAAAAAAAAAAAPf/AAAAAPf/9/8AAPf/EwBFACcAHQAxAB0AJwAnAAAAAAAAAPf/9/8AAAAAAAAJAAkACQAdABMAAAAAAAAAAAAAAAAAAADt/+P/9//3/wAACQAAAAAAAAAJAAAAAAAAAAkAHQATAAAAAAAJAAkAAAAAAAkACQAAAAAAAAAAAAAAAAAAAAAAHQATAAAAAAAJAAkAAAD3//f/CQAdAAkA9/8AAAAAAAAAAAAAAAAAAAkACQAAAB0AMQAnAAkAAAAJAAAA9/8AAAkAAAAnAEUAJwAJAAkAHQBFADsAMQBFAEUAHQAJAAkACQAAAAkAHQAnADEAMQAJAAkAOwBFADsAMQAxADEAMQAxAAkAAAAdADEAMQA7AEUAMQAnAEUAYwBZAFkAWQBZAE8AMQATAAkAAAAAAAAACQAJAAAAAAAAAO3/AAAxABMA9/8JAB0AEwAJAAAA9/8TADEAMQAxACcAHQAdACcAOwBFADEACQAAAAAA9/8AAAkACQATAB0ACQATAB0AAAAAABMAHQAJAAkACQAAAAAAAAD3//f/CQAJAAkACQAJAAAAAAAAAAAAAAAJAAkAAAD3/wAACQAJAAkACQD3//f/CQAJAAAAAAD3/x0ARQAnAAAA9/8AAAAAAAAJAAkAAAAAAAkAAADj/+3/HQAxAB0A9//j/+3/9/8JAGMASQFDAu0CUQNbA2UDqwMjBH0EXwTTA28DAQM5Al0BswA7APf/9//j/5P/Q/9X/2H/Tf9r/7H/2f8AAAkA7f+T/wf/6f4b/0P/V/9h/03/Tf91/7v/CQBZALMAAwFTAXEBZwE1AQ0BAwHlAL0AlQBtADEAAADZ/5P/df+n/+3/AAAJAAkA4//P//f/EwAAAPf/CQDP/4n/if+n/3X/Tf9r/7H/7f8AAKf/Q/91/wAAHQATAOP/f/+d/wkA9/+J/3//2f/3/7H/p//t/x0AJwATAPf/EwB3AJ8AYwAdAPf/EwA7AOP/xf8xADsA2f+n/6f/p//t/08AHQC7/7H/CQBZAFkA4/91/7v/OwBZABMAsf+n/wkAJwCJ/1f/JwCVAE8A7f+x/8X/TwC9AGMAp/+d/0UAgQBFAAkAxf9//53/AAAdAE8AHQCT/7v/EwAAADEATwDj/7H/MQBtAPf/nf/P/wAAAAAJAO3/z//t/wkA4/+7/8//MQBtAFkAEwDj/8//7f8TAEP/Wf3n++f7ffz9AesTeTA9TiFlm3JXev5//n/+f/5//n/+f/5/p3BLWdk+Zx9tADPn1dExwXu4YbQ9sKWsc6xVsXW+V9JZ5GPudfCH7a3qN+3h8g30he976ufnzejf76P5MQAXBo8QrR+RMd1Ea1InVRtSGU/vS+9G3T8/M60fbQpF+Kvn09hVz3nJscORwFvE88x/14Pis+m17KHxR/u5BIsKBwyjBmn8j/Sb8r3zwfSt9CfzkfKv9ykD4Q6xFqcbxSCpKBMyqTdlNUUtTyPlGbsRLQm9/bHwYeY739PYm9Sf1ZHZH92N4kPrmfRF/eUFmQujCzsKiQyRDkkLcQZ1AqH7E/PB7wvxh/LZ9en5Kftj/e8FjxC1FyMd8x+HHdEZFxqFGiUWQQ5vAz32v+zP6y3tqenx4pHeOeHz6s/1xfqJ+t37pwIpDdsUwxOjC80EIwQrBk8FAAD195Pw7+6b8qv2o/mr+/X8RQCnBycPlxIJFFMV7xQfEi0OEwpdBo0D2f9F+JHtG+Zf6PvxCfgd87PpKecl9fEc1Vb+f/5//n/+f/5//n/+f/5//n/+f/5//n/+f/5/n0axB/3WWbKjldWBAYABgAGAAYABgAGAZYhHoemz/8A5zV3WZdjB1jXWs9Vb053SB9f73a/jWelf8hsCURyvQAdm/n/+f/5//n/+f/5//n/+f5ds4U+xLxUNc+31zxG0o5+ZlSmS+ZRJn9WpM7A5uYPJs9pZ6ev3jQPdCPMGr/xv7F3gA+Cn5svqR+c73x/dn+lxATcYqyZHMEE7N0pHXbVs52zdXf9KIzvvLV0k/xjBAYPid8sZwE25TbmnvpHA+cHtzW3f1ep79JUAyQhZCvkKCw3xDREM0wMv9SnnC+KR6P309/or9PHx1QGDFzUp+TcVPxM8VUBnUTNY/0pVO00vsRtfCXEBGfej5RnZd9AxwQ24t8Ix1ZXfoeLr4x/nwfTlCusYZxWHCWECDwT5CsUMqQDj69feUeL77IPxme9P7uvy7f8hEBsbjx9ZI60pGTFBNjUz/yf9GvkPZQjRBd8BG/CD2EPNgdU3/AtJ/n/+f/5//n/+f/5//n/+f/5//n/+f/5//n/+f/5//n8FSk/zwa4BgAGAAYABgAGAAYABgAGAAYABgC+H2ZFxmk2lUbDFtAmy06bzkAGAAYABgAGA/4S/km+rZd25Iq1g/n/+f/5//n/+f/5//n/+f/5//n/+f391aUVBDsnYA6mxggGAAYABgAGAAYABgDuKrbMP3gX3bwM9CFf/p/VJ+dX+ifVp3hW/VZ11jHWWv6utuPW7n8H72E8K60XJcf5//n/+f/5//n/+f/5//n9PVd8pvQpl+1fmsb7/mHmIVYRVidedMbK7ufvEdeF7/vsSuSdLNjcx+R7fEDcJJQL/9+nlpcpDr8Oip6qfvDfKEdL/3iH0QQ69LfdNcWXpb39wJWuLZMtgB1zpTOsscQEL3evPi9CFx1m3tavzpOusccy57Uv38fvXDgshtSsJPNVHmTgBIYkWcw5FAIvzJ+STyM2xl7DfvW3LFdNj1ZXax+59Dhksgz8TRsFCL0PZTWlPTT5ZKHsaqSP9Vv5//n/+f/5//n/+f/5//n/+f/5//n/+f/5//n/+f/5//n/+f4FpcRU9ugGAAYABgAGAAYABgAGAAYABgAGAAYABgAGAt4avoveqr6fDndGUT5SPlZuTRY91jDWam8WpAAcvV00JZL97/n/+f/5//n/+f/5//n/+f/5//n+HbXkcMeQRuW+NAYABgAGAAYABgAGAAYABgJmBHZ53vLHXEfDxCAEcvyGTGxsMJ/Of2oHQHdBXyKu6WbfDwC/Sae0hEBcuUUSjYP5//n/+f/5//n/+f/5/A36bY4dAMR7p+e3I8ZcBgAGAAYABgAGAAYAFiSGpedNp9zMNCRSjFS0iPzinQys9KSbLAcXhG9dN15HP5cYhwqO4rbOJyPnu9wyhIbMyLUCTUk1w/n/+f0VzB1wFSlk8zyqPEFXyWdW9twGhzZhHl8Wbd60FwHPA48M75AsNESVtMgU2myKrEo0hfy+lGB3zZ9YltGOZzZ0vqhefRY+zj7OUjaZL1HME7xTvFJ8e0Tz+f/5//n/+f/5//n/+f/5//n/+f/5//n/+f/5//n/+f/5//n/+f/5//n8letM/f/CTkQGAAYABgAGAAYABgAGAAYABgAGAAYABgAGAAYABgAGAAYABgAGAAYABgAGAjavH+Nkv1ULFTaFi/n/+f/5//n/+f/5//n/+f/5//n/+f/5/aXxPUE8yUx/TCIPsZc7zrj2XnZY3p6uwg6tpnUmLsYLdksWv9buzsoeij5V5kgmeH6vZqjenKat3smG+8dj99LcBSQspHK8sD0BBY/5//n/ndjlwP28VbNlw/3IhWyU0cx1xFbcL2QLr95/kTdK1zonXUeIB52fgVdmX3a3lS+gT7rX2/e8V4jHfC92B0N/Mg9hR2OfJqcZd0fvYI+NR9h0A5/vHAJUZrTP/QMVDAT9LNu8yeTrBQhc94yrdF+EJ7QIdAAv7r/KZ6lnkKeIn6eHycfRP88H5Xf6z+Jn5wQb1DqMLxwWZ+ankFd2D7H/6r/Ir4BfRF8zh2Qf14wKH95voK+oJDyFl/n/+f/5//n/+f/5//n/+f/5//n/+f/5//n/+f/5//n/+f/5//n/+f/5//n+jW0Htf5YBgAGAAYABgAGAAYABgAGAAYABgAGAAYABgAGAAYABgAGAAYABgAGAAYABgAGAAYABgMuBW6ud6wlB/n/+f/5//n/+f/5//n/+f/5//n/+f/5//n/+f/5/t1bjG1XyV9cD0TvaY9olyD2w46XBs3/S5eQZ3hPQ3cSRu223NbN1mwGAAYABgAGAAYABgAGAAYABgOOWz7QT1XX6WxzhQC1o1X7+f/5//n/+f/5//n/+f3lxmWDNT6MudREZBCn2J+lt6c3oldrJ2GHrz/qRBAUTexq5E8EVTSAFHUEOIQFh8A3bvdC1yaG1bZ7xkn+MO4qXl3Onla0xt3vMv+Jj+K8T5SjFNHVDq1MtWcFWh1TpTMdBrTg9K+0WLwcl/xv18ewT6c/hddwl5l/3nwC/CPMQCxLtFv8nSTMjLO8jdSBRF8ELWwOd9S/hudRhzVPCmbghuH3PNQt5Xf5//n/+f/5//n/+f/5//n/+f/5//n/+f/5//n/+f/5//n/+f/5//n/+f4tpcxiH6AHEb5cBgAGAAYABgAGAAYABgAGAAYABgAGAAYABgAGAAYABgAGAAYABgAGAAYABgAGAAYABgAGAgY+t1pkVh0Vdb/5//n/+f/5//n/+f/5//n/+f/5//n/+f/5/H3EpWL86Ax9BDlkFT/3H+CP3p/WZ/g8Txx7jFoULRQUD/hP4b+wZz5+ojY3lgAGAAYABgAGAAYABgAGAAYABgKOBXZCDuoPs4Q7BKd1E/1SJZv5//n/+f+VzmW8xZM1Z+1OVPKcbZxAPE+MHif+TAs38Q/qHEzUu/SnPJYcx7TTbMsM7rTiRGHX/1/cH5k3ITa+9jwGAAYABgAGAAYABgAGAAYABgAGAL4fbj8Wqp8jH39X+7xmbHVscbS1jPJM5QzQBMIEjbxc9F0UUpwd7/qP+/wSDDRkTVRNpGPsmkTa/RE9QW1N9TzFQRVU9U9VHJzf5LUc6K1aDcf5//n/+f/5//n/+f/5//n/+f/5//n/+f/5//n/+f/5//n/+f/5//n/+f/5//n/+f6dh4TubGLPuu80Dve2qdZvPm+mfOZvNnU+oK6QXmvWdp6DDjgGAAYABgAGAAYABgAGAAYABgAGAAYABgK+J5ZlZra3Mh/KhF+83DVFHZ/5//n/+f/5//n/+f/5//n/+f/5/TX8xbn1Za0O1Nb0tESV5HFsX/RWfFDMSZRKnFmkY+RRFFGsWCxJHCPcC8fuL6RHX/cyZwmG0tathpZGYUY1rjI+QF5Uxnseo8bDbvB/O194d7lP+pQnVEMkcTSoBMAUx1TPDMT8pdSV9J0UjNRpbF6MVuQ69CsMOJRHHD1UTSRoZHRMe/yJZKLsqlysvKqclpyAtHYEZYxT9C4/+V/Aj6A3l/eBd273V8c7jyL/JRdAP1L/TCdXX2U/f1eXr7R3zh/K18S/1K/md+sn7X/wD+Un0m/I38p3w1e+78J3wJfD38HPyt/QN+V0Bdw9jI+c6l1PnbP5//n/+f/5//n/+f/5//n/+f/5//n/+f/5//n/+f/5//n/+f/5//n/+f/5//n/+f/5/CXjbafVZWUsBP48zrSmlIm8cgRTpC0EEnfox7nniEdf/ypHAP7j9rpmk95vRlGmOK4sljOuOfZNrm1Okw6yftzfFXdEz3afry/kNBoMS/x3LJOUoxy3/MYk0Ozd1OUk45zU5NCMxfSxtKDkl+yGTIBUhByCrHFMaRRktGMcZuR3fH2Eg4SJHJm0oLSylMYM1cTgHPvFEN0rJTilTvVUlVwlaaV6rYp1mlWmxawlu93B3c2F1aXeFeUF8/n/+f/5//n/+f/5//n/+f/5//n/+f/5//n/+f/5//n/+f/5//n/+f/5//n/+f/5//n/+f/5/WX2/dsduf2Z5XdNTRUsBRDE8JTQTLc8lJx7FFrkO9QTF+vvxU+pz4/vdQdmD0yXNOcj7xLfCe8ILxC3Fd8Z5ybvNH9Nt2mXiT+mJ8Lf5jQOxDDkWmR8tJwcvBzkvQ59LW1PlWiVh2WZzbYFzm3cBe1N+/n/+f/5//n/+f/5//n/+f/5//n/+f/1+rX57fr19d31nfld/93/+f/5//n/+f51/+X2he1N503YNdB9x/21xaqdmBWOpXzlcBVkhVgFTRVDjTf9KwUdbROtA8z0tOwM4xTSRMVMuASu5J7ckGSL9HzselxwbGz8asxkJGaUYwxjDGJsY4RgxGTsZTxkxGWkY3Rc3GJEYcxiRGEUZ2xnvGbMZlRm3GqcbeRxLHf8dnx5dHxsgfyD3IFshlyHTIdMh0yHnIYMh7SCxIFcgyx9dHxcfgR7/HeEdwx2HHcMdYx7RHo8fzyAPIjEjoySDJoEoaypVLIUuyTBtMrczKTVzNnc3PzjVOFc5iTl/OXU5YTlhObs5RzoPO6U7wzsnPMc8Az0rPZk9rT1dPa09OT5DPvM9ST1jPMM7uTuRO/E6ATpNOcs4NTi9N583izdFN/82uTabNpE2BTYfNZM0OTR7M7MyMTIjMZ0vNS7hLAErAylzJ/clAyT7IWsgDR+bHVEcdRuZGjEZ0xdRFx8XzxaTFukV+RQnFJsTGRO1ElES2RElEV0QlQ/DDskNnQxdCzsKLQkfCBsHIQYdBecDfwKFAdsA9/91//3+Df5P/Qn9ufxz/KX81/yl/JH81/xF/ZX9x/0X/o/+8/5h/wAAvQBnAd8BfwKNA30EHQW9BY8Gkwe1CNcJ7woHDEcNmw7bDyURgxL/E4UVARdBGHcZ6RpRHHMdnx7pHwsh5yH/IvkjoyRXJQsm3SbhJ6koAyk/Ka0p6SkbKmEqayphKmEqVyolKv0pwSk1KZUo9SdfJ/Embyb3JaclESUhJG0jCSOHIuchZSHjIDkgox81H+8eWR6bHQUdRxxhG98aoxoNGhMZSxjJF1EX4xZXFnsVvRRjFOETSxPJEjMSaxEbEekQFxCBDzsPhw7dDYMNHw2TDNULXQsXC1kK1wmlCS0JtQhRCMUHYQdNBy8HywZxBj8GFwb5BfkFAwYDBvkFDQY1BkkGhQajBoUGjwYRB4kHfwdXB7EHMwhlCKEI5wgjCXMJfQmbCRMKRQoTChMKgQrbCnsLJQxDDDkMiQz3DEcNeQ2/DQUOIw5VDocOcw5zDs0OHQ8dD/UO4Q71DusOuQ6bDpEOrw7DDrkOcw4PDrUNeQ0zDcUMOQzzC8ELewtJCw0LvQonCpEJhwlpCfsIBQnJCBUIxQfFB4kHawedB4kHGwfLBssGywajBlMGFwYDBuUFvQXbBQ0G2wWBBYsF2wW9BW0FOwVFBWMFlQWpBZ8FqQXbBfkF5QX5BSEGUwaPBo8GUwZTBnsGhQaFBqMGwQatBpkGtwajBoUGhQaFBrcGBwfpBo8GZwZdBj8GIQYXBu8F0QXRBdEFqQWVBWMFEwXXBKUEkQSvBJsEpQTDBHMEBQQFBDcEGQQZBAUEqwO/A9MDWwNHA28DZQNHA1sDqwOXAxUDxQKxAmECJQIvAhECywH9AWECYQIvAvMBhQHvANEA+QC9AG0A0QDlAHcAvQBTARcBbQBFAIsAbQATAB0AAACd/5P/k/9r/1f/G/8R/1f/f/+d/5P/df9X/yX/Q/+J/2H/Q/+n//f/z//F/wAAxf9//2v/Of8v/2H/p//j/wkA9/8AACcAJwAJAAAAAAAJAAkAAAAxADsA4//t//f/AAA7ADsACQAdAFkATwATACcAbQCpANEAvQCVALMA+QANAdsA2wANAfkA5QD5ABcBhQGZAfkAAwERAiUC7wBtAMcAvQCVAIsA0QD5ANsASQFxAZ8ARQBZAO3/if+7/x0AbQCpADsAMQDHABMAnf8dAMX/Ef8v/1f/y/4X/kn+B//9/oX+Z/5n/hf+2/35/QP+K/6F/rf+Z/75/bP9bf1P/Z/9Nf63/tX+j/5T/hf+x/1Z/Tv9T/13/UX9zfxP/fn9lf3b/aP+mf6t/v3+/f7L/sH+3/7V/qP+8/6n/wkAp//L/nv+Ef/F/ycAiwDbANEAxwA/Af0BTQLzAXsBSQHbANEAowGtAXsBywFtACf9Kfvt+pn5gfij+af6AftZ/b0AIQGd/+n+cf7R/Xf9+f2Z/jH9jful/Mv+AACVANsAYwAl/9v9J/1Z/Vn9ffyl/Pn96f5D/+P/owHFAlMBsf8b/w3+6/zr/P/8kfy9/W0AEQI5AgcCqQD5/aX8Y/1P/VX8+f0AAHX/JwBRA5EEfwK9ACEBIQHZ/8//z/8h/m39gf0x/TH9//wT/XH+RQBxARsCdQIHAqkARQBJAQ0BCQAXATMDCwOJArUDPQM/AQkAwf6p/e/9V//RAC8C2QKnAhUDjQOxAmcBxwD3/9/+U/4x/Q/8+/tN+sP3n/jN/Dn/lf1R+2X7QfyJ+if4hfnb+E/zofEp9gf62frN/HcAPQPFAg3+c/zj/6P+ffcT833y8+/17WHw9fJ79MH5mQFzBLsCSQEnADX+h/zX/GP9AfuB+Bv65f3vAAEDXwRzBLsCxf87/bn88ft7+dv47frr/Nv9nf9vA9EF0wMhAc//lf3P+sH5P/kn+P358/67Ai0EfQQvAk/9f/rt+jn6lfhR+7f+Xf5FACEG5wj5BTMDeQMBA70ARQCx/5v82fpX+pn5j/mZ+SH5x/j5+I/5o/lN+jv9z//p/j37X/f/92X7QfxP/bf+U/6Z/pH8n/iv9yP3PfYJ+Pv7CQB5A/0GswoBDbsMuQnrBFcCuQSxBwMGzQRfCQkP1xNlF8kXVRiBGYcYxRZ1Fu0WsRbzFYEUPRLlD3kNIQsjCeMHbwgvDBsR0xJXEQUO2QeLAEv8Efo59bfv++wz7PHsO+4N7xHwH/HH86H2f/Xb82PzC/ER8A/y1fRp99H4c/cf9iH57fpT+Qv79//LATEAxf9ZAGf+B/oL9hPz5/Gv8iPyZfH58zv4tfsTAIEFUQhPCtMNHQ+dDF8JkwcNBucD5wNTBnEGRQVpBBECNQE9Ay0EZQORBI8GWQULA3UCFQMxBdMIFwt7Cw8OvxKVFOcSxRHVEFUOpwxNDFMLnwpxC1kKWwg1C48QVRPlFEEY6RrNGPcR6wmBBccFywYhBgMGgwjLCz0NpwzbCgUJrwlHDcUReRc5IPUnTyi9I5kfyxoxFHURrxPFFuUeIywtNmU6QTtBO9c7wT0JQf9FIUy5T+1NdUgXQtM6PTVNNDUz+S13KNsjcx2LFLEMxwUl/8n7//zF/10BnwDx+zHze+qB5CniE+Rv55voCek97BHwtfHN8g30TfUn+Dv9twFBBIUGAQjfBg8EiQIfA+kGbxLLKYdKkW3+f/5//n/+f/5//n/+f/5//n/+f/5//n/Lfsl7K3kzdrVxq2x5Z+FeNVE5Pnkmqw1B94fjAdO7yHPFU8clzdnSO9Wf1dfUR9ND0svRgdBHzonNfc9D0tHV99w36EP19wIREb8cLyVVLPswjTApK1MkkyARIMUgXyLNIjsjHyalJy0n3SbzJAshHxzBFR8NHwNh+tvz4e076ZPmY+Rn5TXqHe7L74PxpfIt8ovzxfUD9K3v/+3B72nyAfad+lkAdQfjDAkP/RBJFW0Z7xm7FgESuQ6bDmMPuwxvCNkHPwsxD7cQ1w4/C4MI4wd/B28D6/z199X09fJB8gXyVfK981f1nfXP9eH3sfqD+zn6Mfjt9V30sfXv+JP6efsn/cH+FwFjBWkJ/wkfCI8G7wVxBjcJDQvtB0cDywFXAikD+QWDCKMGlwOhA08FiwUjBHEB1/zv+Hv5R/vF+kf7+/sL+wv7GfwZ/IP7S/zb/an9pfw7/fX8q/sJ/Sv+pfxB/KkAqwgxD7MP6wkbAon/mwTrCTsKQwdHA8cALwJnBvsIIwlDB6cCB//Z/8kD3wZPBRv/n/gz9gP5Mf2P/nH+n/3x+437N/wJ/aP+4//V/kf7E/h7+Y/+rQEdALn8BfxN/7UDCQUfA/0BawJhAkkBvQDFAm0FcwTF/9n6efvxA9sK0wjVAXP84fx/AukGlwOD+zf3hflN/w8EXwSn/yX6Ifmv/BMAwQGxAssBXf5X+rP4H/uzABkEAwFL/Iv9UQMTBe8Ay/l1+gkZI17+f/5//n/+f/5//n/+f/5//n/+f/5//n/+f/5//n/+f/5//n/+f/5//n/+f/5/2T559v+xAYABgAGAAYABgAGAAYABgAGAAYABgAGAAYABgAGAAYAhgSeKA5pNtAXURfiLI1lQl3ETfYdyUV1VT7FN20uVRotGJ1A1YLVs725taXtgNVbZSPE1eyR9GJsJ2fCbzyOxZ6Rlq9O6i8aRylfNsdKL1Y/Rx8ZDue2vU66NtSXDWdBD3E3mX+1D+hkO6R8nLe00oTXnMCUqwSSxICMdURzdHE8eHybNMZk4ZzglNM8qiRu3C53/+fib97X2Q/C/52PpU/lnC8MTZRKHCYUBewFDAlP+i/h38xHwo+8v9RcBKQ3fFcEaCRmZFWEWbxezFM0OdQeT/+X46/f5/YEFwwmfCkUKmQtZD7MPOQfX/Gn30fN77wHs0+wd87P46/dB8hvw8fuDDY8QhwRl9nXwp/Un/ef7//Ix7pXzt/7NCQsSHRSXDVsDTf/TA9sKVQ6/CEv8F/Qb9Zf7oQM1C28NUQh1AvcC4wdPCtsF1fmL7lnuofbX/A3+V/8/ATn/t/m593v+zQlzDocEVfI16iX1gQVPCnEBL/WN8Xv5SQYrEIcTsRGZC58Af/r5AO8KGQ4/Bqn4Z/TV/gkPvxfzEMMEYf/V/pkBxwWpBV0Byfu79QXyI/enAmkJ+QUP/KP0jfbF//cHtwYj/BPzBfJR9uH8EQLzAUn+Y/3z/j8BXQYtCQ0GgQDt+tv4g/ufACUHSwmRBC//H/tl+8cAXQbFGyFb/n/+f/5//n/+f/5//n/+f/5//n/+f/5//n/+f/5//n/+f/5//n/+f/5//n/+fxM81eA/kAGAAYABgAGAAYABgAGAAYABgAGAAYABgAGAAYABgAGAAYABgOORO7fX2bf+fSzTXRd+kXwXYKk8byY7KDk5qVC/bP5//n/+f/5//n/+f8duj0JdGjEF1f4v9f/eZcTRstOwdb5F1UXp7fBr5ovLha4vm/2Qi4qdh6WO9aJlv5fdRfitCwsXWxfvDx0PERsNKV0p9Rg5B9cEQRMTKHE4kUWVVaNgnVxPS2E02SBhEaf/Re7P5g/tZ/mn/+H8E/ir9g/3JfUl8CXra+YP3kXQi8GrulG/h8qf2oXvtQNXEWMUUQ3nA70A0QCl/Cf4S/cf+2MFtxCVGU0gIyItImMjyyT7JiUgVQnD7W/YRdCt1gvik+u/8cfzIfSv8vfwq/Ht6+3cBc+TyF3Me9ZD3OnbR91d5SnxWf2lCdEUwRrHFJcDJ/Pb7qn4vQU3CbcGQQlFFGckvS2PKTUfUxUxDz0NSQsHB7cBeftJ9A/yqfjjAsUM5Q9zCX8CWf1d+Tf3P++z5Nvfi99p6NP2cf7j/4v9AfvL/v8EpweLBTn/n/j99Hv0N/dj/b8DBwcTCuEOwxMzF4EUzwyjBt8BDf4f+yH5Hf0zAxkEWwOjAYUBVwdTC18JJwVT/vP06+197ZvyKfvnA28IGQm1CLEHxwX1BDUGUwZhAvn9Hf0l/7ECVQSdAnUC/QbpCwENCw3JDRsM4QS9+GvwP/S7/8UHgQW9/WX7cf6rCNcne2D+f/5//n/+f/5//n/+f/5//n/+f/5//n/+f/5//n/+f/5//n/+f/5//n/+f/5/8UmNEvXt09gBznPKPc5Z1evU0cblrXmSAYABgAGAAYABgAGAtYNFjwmU+5xTsxnPE+lP/SUHtwtvDQcMHw3pEF8YkScZO51Su2uhe1N+nXVjZOlRBUVNPmU64Ta7L08jFRdnEAkP9Q6JDAEIFQMh/l/36eoP2SXIw7uDtXu4GcXv1d3it+U33uHUndLV1hHcg92Z24nc4+Gv6FPv/fR7+dv9HwPrCcMTWR7PIA8YgQrHAGcBxwohFf0aPRxRHEsdaR2JG/EXRxIhCwMGTwUbB68J5whTAfn4Gfer+zkCqQXnA8v+o/md9efxi+7d7M3tre+N8Sn2pfwdAAf/NfmH8pHyXfkv/0P/N/yF+fn4C/s//sEBWQU5Bz8GpQTlBX0JEwqvBHf99/pX/4UGYwoVCOsEswXzBuUFUQP5AO8ATQIlAp8AxwC7ApMCrf67+mX7bQD/BFUEOf/Z+qf6D/x5+xv64/o7/T/+J/2X+0H8f/9ZAGn8Y/iz+Ov8qQBPAP/8Aft9/N/+B/9T/lf/2wCLADn/L/+zADkCKwG5/Lv68/65BEMHXwQR/6n9EwCnAkcDwQHlACsBYwDj/+8AkwJRA98BG/9d/j8BLQSrA+UAK/4d/Q3+p/9nAdkCxQKzAOX94fzL/gMBnwCP/u/9Tf/vADUBsf+F/sv+mf5t/W399/89AzMDJf9R+/v7OwD3AjUBn/3D/Dn/rQEHAgMBz/8D/t/5vfMX7/XtHe4V7B3px+4JBcco505Lbf5//n/+f/5//n/+f/5//n/+f/5//n/+f/5//n/+f/5//n/+f/5//n/+f4tzRWkZY09fm15hYZFjZ2AlV7lK1T09MH8goxBnBn0EdwWZASP3heqP4DHa4dRzz13MP8z/ygXFgbzNtue19bZZt++3MbxBxcvMj8xPxiPA7b4Rw1vJkc8h1gHd7eGH4//j2eZH7PHxH/bf+bH/awcfDd0NNQtFCjcOIRVbHJsiySYJKCkmLSIXHyUgKyS1JtMmZSarJtcnuSfpJN0h+yEHJdcnqSj/J7ElASEbG4UVvxKzFLUXPRfxEnkNhwnLBlEDL//x+x/7N/w3/HX6bfgf9v/y6e+B7oXvafJd9KXy0e497Ffrweo16rfqyexx79nwG/Cf7v/tMe4d7m3uUfFR9hH64/qj+b348/n7+9f8Y/33/yME1QYrBgUEbwMTBekGLwcvBzcJYQy1DUMMgQoTCg0LywvHCmMK7QwDEPkPsQwPCZ0HlwjhCaUJoQiNCNMIkwf1BNkCVwKdAgcCiwBZABsCdQKJ/437Efqr+6n9gf2X+zn62fpp/Jv88ft9/Bf+1f4h/k/9A/6T/7H/s/37+7P9rQEpA3sBL/97/p8AAQOxAmcBLwLxA/sDCwM9A+sEtwb9BhMFgwNFBe0HnQc7BTcECQUDBu8FVQQBAw8E+QU7BfcCsQL7A18EMwN7Ab0A6QFlA3UCTwATAJkBowEJAKP+If63/k3/j/6B/dv9t/4r/qX8I/zX/JX92/1t/c38Rf0r/tH94fxP/fn9lf2f/Rf+e/5N/7v//f4h/kn+cf69/cX/iwrlHkM5+1NZaU94/n/+f/5//n/+f/5//n/+f/5//n/+f/5/wXnfb5dscW+Lc5VzDW8NakdnSWWDYhthzWP7ZwVok2FxVkFKiT6HMScjoRc9Ek8PvwgJ/a3vmeX533Xc19kj2eXa99z92ynYn9Xp1n3Zd9qL2unbHd8l4S3e7de10xnUideF23ffpeMj6O3rWe4V8Q/3HQDdCBMPlRQbG1EhpyVfJ+EnYSqdLzk0oTUzNZM0jzP/MZcweTA7Mtk0IzbtNBcz7zKFM3cyCzAXLqkt7y3XLIsofSJfHesY/xOBD2sMCQq3Bl0Bz/qn9VnzD/LB7/Hsdeth64Xqtecx5LvhOeGT4VfhOeGx4c/hj+Dn3f3bC90D4D3iGeMJ5C/mJ+lr643sRe7d8T326fnh/BMAZQOVBWcGOQe5CecNpxFBE3MTOxT9FVsX0xcZGFkZuxulHeEdfR2HHYcd+xwzHO0bZRy/HH8brxjpFUUUSxN1EdcOpwz5CmkJfwd9BI8BCQCt/rn8xfqZ+e/4zfd19Yfyu/Cn8Avxk/BJ783tyexH7NnrV+sl653rKeyr7JHtd+4X763vL/AL8eHyYfU393f4j/lN+o37lf1h/6kAEQJ5A68EcQa1CJ8Kaww3DmMP+Q8lEasSfRP1EzEUWRSpFHsVVxaJFgcWUxWBFNcTmxNVE7US9xHpEKkPuQ43DlEN8wuVCmkJWwgvB9EFSwTFAl0BJwDz/gP+Wf19/B/7e/kn+If3S/cF97/2R/ax9U31B/WZ9F30t/T99P30YfVR9i33VfcF99P2N/eL+Ff6W/ur+wX8Qfz//McAEwqRGP0p+zqxSJlRvVU7VY9RoU43Tx9TLVmVX09knWanZk9kt2DNXndfTWG1YrViOWEJXxVdZ1u9Wi9czV4DYPFdKVhpT3NFHTw5NIUujStrKj8pPSYVId8a+RSzDzUL9wfHBckDNQG9/cH5UfZd9Bf0o/TV9Bf0QfLb7knqTeap5EnlH+fR6efs3++v8l30y/Qv9aH2+fih+1P++QCNA9sFnQdfCTkMexB3FNkWqxfdF3MYWRkXGi8bwx1lIWckPSZfJx0oJyibJ28mYSWnJasmlyYRJUUjDyIzIWsgXR8nHiMd4xupGXUWNxPBEP8OeQ1/DPMLhQuBChUImwSjAc//U/7N/I37YfpT+WP4I/eJ9YX0t/Qb9en0e/QX9E/zc/JB8s3yF/RH9mP4NfnB+WH6k/q7+tn6H/tp/HH+OwBnAVcCKQO/A30E0QVNB7UIHQrvCtsKvQo1C9ULkwy1Dc0Odw/vDz8Q7w8xD30O0w1lDW8Nlw2rDY0NRw3FDPMLFwuBCh0Khwl5CCUHDQZtBfUEVQShAwsDnQI5AnEBYwBh/13+Rf19/EH8r/z//Jv8+/sV+2H6p/oL++P6u/q7+lf68/kb+nX6u/oV+3n73fub/GP9d/0x/eH8r/wx/Y/+p//3/zEAqQANAXEB3wEHAiUCiQL3AikDeQMtBJsEXwQ3BM0E7wW3BrcGSQblBbMFswW9BakFxwU1Bl0G7wVtBU8FYwUTBUsE0wPxA/EDoQNbAx8DuwJhAhECjwF7AcsBowHvAFkAAACd/0P/Ef8H/yX/Tf8H/3v+cf6t/pn+K/5t/Qn9O/3b/dEA9wdvEvUdRSjtLwc0VzTDMQ0uUStHKyEuizLrNnk6nzyzPBk7ETnvN1M4fzlROgE6rTgdNwU25zUdN505EzwNPVU74Ta1MBEq0SPlHj0cpxsLHD0cJRtVGJ8ULxFpDv0L6wlRCFMGqwM1ASX/2/3H/Sv+s/2R/Av7O/g19CXw8exD67vrue237z3xI/IZ8o3xPfGX8ZHy0fOj9MH08/TF9Zf2afcD+W/7+f33/70AOwBh/9X+y/6T/7cB1wTFB7kJnwrRCiEL6Qt/DO0MjQ1VDpsOQQ61DWUNgw1fDpUPZxDLEI8Q/w7jDD8LYwp3Cj8L3wvpC7cLNQv/CZcIdQeZBg0GxwU7BTcEFQOtAUUAa/9D/8//lQCVAIn/+f1p/B/7p/qd+uP6ofsF/L/7b/sV+536Jfr9+U36xfoV+xX7sfol+hH6p/pv+1X8bf01/nH+U/4r/iH+Z/79/qf/TwANAaMB/QHVAYUBrQE5AtkCeQPJA78DjQM9AxUDbwMtBM0ERQV3BTEFzQR9BCMEoQOXAy0EuQS5BH0E8QMfA+MC7QLtAjMDKQO7Ak0CtwE1ARcBKwEhAQ0BKwFTAfkATwDP/3X/Of9X/5P/if91/2H/3/5J/j/+rf4R/y///f6t/nv+P/7l/dH9F/6t/jn/V/8v/wf/6f6t/mf+Z/7B/mH/2f+7/2v/Tf91/6f/z/8JADsATwAnAO3/7f8xAGMAdwCpAJ8AqQANAQMBswCLAFkAHQDt/53/Yf9//53/nf/F//f/AAAJALH/Q/8b/wf/Jf9D/y//Of9D/y//Q/9N//3+wf63/rf+CQD7A5sJ5Q8lFv0acx3NHascjxqlGAUYwxhdGmUcRR5xH+kfByDzH7cf8x9XIN8fix4PHQsc2RtbHEEdix79H38gUx/dHKkZVxaRE6cRhRANEAMQ0Q/rDqsNxQwvDHELTwr7CH8HnwWXA/MBswBFAA0BGwKnAnUCSQGn/739q/s5+hH6nfop+4370/vT+6v78ftV/HP8pfzX/H38q/vj+rv6C/uN+x39/f67//f/7f85/4X+U/5T/oX+Of/Z/zsA0QA1AWcBrQH9AWsCxQKxAlcCwQEhAdEADQHBAbsCoQP7A90DoQMzA2ECrQGPAaMB6QFDAkMCGwJDAlcCLwIvAk0CLwK3ATUBswBZADsARQBtALMAKwGFAWcB7wBPAM//k/+J/53/2f/P/7v/z/+7/53/4/8xAO3/p/+d/1f/L/8H/9X+/f5r/7H/9/8nAAkAp/9h/2H/Yf9N/2v/p/+d/3X/sf/t/+P/AAATAPf/CQAdAM//a/9//6f/z/8dAFkAnwDbAOUA5QANAQMBqQBjAGMAYwCLAO8ADQHbANsADQEXAQ0BDQHlAIEAWQB3AIsAlQDHAMcAvQDvAO8AqQCLAIEAbQBPADEAOwBFADEAHQAnAE8AdwBtAEUAHQAJAO3/AAD3/6f/xf8TAAkAEwAdAAAA9/8AAO3/u/+7/8X/2f/3/+3/2f/j/wAA9//3//f/4//3/wAAu/+J/7v/AAAJAAAAAAAAAAAAAAD3/+3/z//Z/wAA7f/t/wkACQAAAAAA9//3/x0ACQDj/wAAAADj/wAACQDj/wAATwBFADEARQATAAAA2f8nAJ0CXQYnCvENmRCJES8RAxBVDgENdQxXDLsMUQ15DZcN5w0PDg8OIw5BDg8OAQ1nC+sJ8QiNCAUJCQrRCmcLmQvbCkEJLwdPBSMEMwOTAmsCGwLfAcEBXQFdAY8BcQEXAW0AV/8N/uH8N/wZ/Jv8gf0h/j/+P/4D/jv9N/yr+2X7UfuN+5f7ofvn+y38h/wd/Z/95f35/an9Cf2H/FX8afzh/Hf9Df7B/mH/if9h/03/Jf/p/t/+Jf9N/03/df+7/wAAdwDlADUBNQENAQMBqQA7ADEAEwBFAO8AXQGFAZkBcQFnATUB+QDlAO8A2wCzAJ8AlQCLAKkAAwE1ASsBFwH5AJUAJwAAAAkAAAAAAB0AOwBjAIEAOwD3/wAA7f/t/wkAxf9r/4n/nf9h/53/EwAJAO3/EwDt/3X/Tf9N/0P/df/Z/+3/sf+d/6f/nf/P/wkA7f+7/7v/sf9//3//p//P/+P/AAAnACcACQAAANn/u//t/wAA9/8AAAkACQAJAAAAHQA7ADEAHQAJAAAAAAD3//f/CQAdADEAWQBPAAkAHQBFAAkAAAATAAkAAAAAANn/u//t/x0AHQAdABMA7f/j/wAA4//P//f/AAD3/wAAAADt/+3/AAAAAPf/AAAAANn/xf/Z//f/9//3/wAACQAJAPf/9/8JAAAA9//3/wAAAAAAAPf/9/8AAAkACQAJAAAA9//3/wkACQD3//f/AAAAAPf/EwATAOP/7f8JAAkAHQAdAO3/z//t/xMAHQAJAAAAAAAAAPf/9/8AAAAAAAD3/wkAMQAdAO3/4//j/9n/2f+LAH8CCQV/B8MJKwuZC3EL7wodCi0JgwhHCBUI2QfjBxUICwjtBxUIUQgfCJ0H1QbHBcMEQQQtBFUErwTrBNcEXwSXA8UCtwGLALH//f4//qn9bf07/TH9d/2z/dH9x/1j/df8S/y1+z37Kftb+5f78ftB/HP8m/yl/K/8zfyl/If8ffxf/JH8//xt/fn9t/5N/53/xf/F/7v/xf/Z/8//4/8dAHcAvQANAWcBtwHfAQcC/QHVAcEBrQF7AXEBtwHpAf0BGwI5AmsCawL9AZkBewFdASEB+QDbANEA2wDvAPkA5QDHALMAgQAdAOP/4//P/4n/df+n/6f/k/+n/5P/V/9h/3X/Yf9r/3X/df+T/7H/nf+d/+P/CQDt/8//xf+x/6f/p/+7/9n/4//3//f/CQAdACcAOwAnAPf/OwBZAAkAAAAdADsAYwBtAE8ARQBZAE8ARQBFADsAJwATAAkAMQBPAEUARQBFACcACQAdABMAAAAAAAAAAAAJAAkA7f/j/wAAAAAAAPf/z//j/wAA9//P/9n/4//j/+P/7f8AAAAA7f/Z/8//2f/3/wAA4//j/+P/4/8AAAAAAAAAAOP/7f8JAAAA9/8JAAkA4//t/wkACQAJAAAAAAAJAAkAAAAAABMAMQBPAGMAYwBPAGMAdwBZAEUAYwBFAB0AHQAxADsAJwA7AFkAMQAdADEAJwAdAB0AAAAAAAkACQAJAAAAAAAAAAAAAAAAAPf/4//j/+P/4//t//f/4//P/+P/CQAJAM//xf/j/+P/4//j/+P/9//j/8//9/8TAAAA9//Z/8X/4/9tAJkBzwLTA68EWQWfBZ8FdwUnBeEEuQRLBN0DtQO1A78D0wPnAxkEIwTdA3kDMwOxAhEC3wHfAbcBhQFxAVMBIQHRADsA9//Z/03/o/5T/iH+5f3l/Rf+If41/iH++f35/dv9qf2L/WP9Y/2V/bP9x/35/TX+Xf57/q3+1f7p/un+8/4R/0P/nf/j//f/HQBPAHcAnwC9AL0A0QC9AL0A+QANAQ0BPwFnAUkBSQFxAXEBXQFJARcBDQENAe8A5QDvANEAswCzALMAiwBZAEUAOwATAPf/AAD3/8//z//F/53/p/+x/3X/Tf91/2v/Q/9D/03/Tf9D/03/df9h/03/f/9//03/Yf+T/53/nf+n/53/u//j/8//2f8AAAkAAAAAAAAAHQAdAB0AMQBFADsATwBjAE8ARQBZAEUAOwBPAFkATwAxADEARQBFAEUARQAdAB0AHQAdAB0AEwAJAAAAAAAAAAAAAAAJAPf/4//3/wkA7f/P/9n/4//j/wAA7f/j/+P/z//j//f/4//j/+P/4//j/+3/AAAAAOP/7f8AAAAA9//3/wAAAAAAAAAAAAAAAAAACQAJAAAAAAAAAAkAAAAAAAkACQAJAAkAAAAAABMAHQAJAPf/AAAJAAkACQAAAAAACQAJAAAAAAAAAAAAAAAAAAAAAAAAAPf/9/8AAPf/AAAJAAAA9//3/wAA9//3/wAAAAAAAAAAAAAAAAAAAAAAAAAAAAAAAAAACQAJAAAAAAAJAAAAAAAdABMA9/8AAAAA9/8AAB0AEwD3/wAAAAAAAAAAAAAAAAAAAAD3/wAACQBFAO8AewGZAZkBhQFnAVMBPwE/AT8BKwErATUBPwE/AUkBUwFTAWcBSQEhAQ0B+QDRAL0AswC9AKkAiwCLAG0AOwAdAAkAAAAJAAAA9//3//f/4//j/+P/z/+7/7v/u/+n/6f/p/+n/6f/p/+n/7v/u//P/+P/xf+x/8X/4//j//f/AADj//f/AAD3/wAAAAAAAAAAAAAAAAAACQAJAAkAAAAAAAkACQAJAAAAAAAAAAkACQAJAAAAAAAAAAAAAAAJAAkAAAAAAAkACQAAAAkACQAAAAAAAAAAAAAACQAJAAAA9/8AAAAAAAAAAAAAAAAAAAAAAAAAAAAA9//3/wAAAAD3//f/AAAAAAAAAAAAAAAAAAAAAAAAAAAAAAAAAAAAAAAAAAAAAAAAAAAAAAAAAAAAAAAAAAAAAAAAAAAAAAkAAAAAAAAAAAAAAAAAAAAAAAAAAAAAAAAAAAAAAAAAAAAAAAAAAAAAAAAAAAAAAAAAAAAAAPf/AAAJAAAA9/8JAAAA4//3/wkAAAAAAAAAAAAAAAAAAAAAAAAA9//3/wAACQAJAAAAAAAAAAAA9/8JAAkAAAAAAAAAAAAAAAAA9//3/wkAAAAAAAAAAAAAAAAAAAAAAPf/9/8JAAAA9/8AAAkAAAAAAAAAAAAAAAAAAAAAAAAAAAAAAAAAAAAAAAAAAAAAAAAAAAAAAAAAAAAAAAAAAAAAAPf/9/8AAAAAAAAAAAAA9//3/wAAAAAAAAAAAAAAAAAAAAAAAAAAAAD3//f/AAAAAAAAAAAAAAAAAAAAAAAAAAAAAAAAAAAAAAAACQCBANEAnwBjAE8ARQBFAEUARQBFAFkAWQBZAFkAWQBZAFkAWQBFAE8AWQA7AB0AJwBFAE8AMQAdADEARQAxAAkACQATAB0AHQAJAAkACQAJAAkACQAAAAkACQAJAAAACQAJAAAAAAAJAAkAAAAJAAkAAAAAAAAAAAAAAAAAAAAAAAAAAAAAAAAAAAAAAAkACQD3//f/AAAAAAAAAAAAAAAAAAAAAAAAAAAJAPf/4/8AAAkAAAAJAAAA9/8AAAAAAAAAAAAAAAAAAAAAAAAAAAAAAAAAAAkACQD3//f/AAAAAAAAAAAAAAAAAAAAAAAAAAAAAAAAAAAAAPf/9/8AAAAAAAAAAAAA9/8AAAkAAAAAAAAA9/8AAAkACQAAAPf/9/8AAAAAAAAAAAAAAAAAAAAAAAAJAAAA9/8AAAAAAAAAAAAAAAAAAAAAAAAAAAAAAAAAAAAAAAAAAAAAAAAAAAkACQAAAPf/AAAJAAAAAAAAAAAAAAAAAAAAAAAAAAAAAAAAAAAAAAAAAAAAAAAAAAAAAAAAAAAA9//3//f/AAAdAAAA4//3/wAAAAAAAAAAAAAAAAAACQD3/+P/9//t/9n/4/8AAAAAAAAAAPf/AAD3/8//7f8AAOP/7f8AAO3/z//F/+3/AADj/9n/7f/j/8//2f/j/+P/7f8AAO3/z//P/8//z//Z//f/AAAAAO3/4//j/8//z//P/8//4//j/8X/z//3/+P/z//3/wAA9/8AAPf/9//3//f/9//3//f/AAAJAAAA4//P/+P/AAAAAAAACQAJAAAAAAATADEAJwAJAAAAAAD3/xMAMQAJAAkAHQAJABMAJwAdAAAAAAAdADEAEwD3/wkAMQAnABMACQAJAB0AEwAAABMAEwD3/wAACQATADsAWQAxAAAACQAdABMACQAJAAkAAAAAAAkAAAD3/wAAHQATAAAAAAAAAAAAAAD3/wAA9//P/+3/EwAJAAAAAAAAAAkAAADj/+3/CQDj/7v/xf/P/7v/xf/j/+P/4/8AAAkA7f/Z/+P/4//j/+P/9/8AAM//u//3/wAAAAAAAPf/7f/Z/8//2f/t/9n/z//j/wAAAAD3//f/AAAAAO3/4//j/+P/4//j/+P/4//3/wAAAAD3//f/9/8AAPf/9/8AAAAA9//Z/+P/9/8AAAAACQAJAAAAAAAJABMAHQAJAAAAAAAAAAAAEwATAAAAAAAJAAkACQAJAAAAAAATACcAEwAJADsAOwAdAEUARQAnAB0AJwBFADsAHQAnADsAJwAAAAAAEwAdABMAAAATAB0AEwAJAB0AMQA7AE8AWQBFAAkAAAAdAAkA9/8AAAkA9/8TAEUAMQAJAAkAAAATACcAMQAnAAkAAAAJAB0AHQAnAEUAMQAJAAAAAAAJAAkA9//3/xMAHQAAABMAHQAAAAAAAAD3/wAACQAJAAAAAAAAAAAAAAAJAAAAAAAJAAAAAAAJAAAAAAAAAAkACQAAAAAACQAJAAAAAAAAAO3/4/8AAAkAAAD3//f/AAAAAAkAAAD3//f/AAAAAAAAAAAAAAAACQAJAPf/AAD3/+P/9/8JAAAA9//3/wAAAADj/+3/AAAAAAAAAAD3/wAACQAJAAAAAAAAAAAACQAJAAkACQAJAAkACQAJAAkACQAAAAAAJwAnAPf/9/8nACcACQAJAAkACQAJAAAACQAdAAkA9/8AAAkAHQBPAE8AEwD3/xMAMQAnABMAJwBFACcAJwBFADsAHQAdADEARQAxAB0AMQA7AB0AAAAAAB0AEwAJABMAJwATAAkAEwAnADEARQBPAFkAMQAAAAkAHQAAAPf/CQAJAPf/JwBFAB0ACQAJAAAAHQAxADEAHQAAAAAAEwAdABMAMQBFACcACQAAAAAACQAJAPf/AAAdABMAAAAdABMA9/8AAAAA9//3/wAACQAJAAAAAAATABMAAAATAB0A9//j/wkAHQAJAAAA9//3/wAAAAAAAAAAAAAAAAAA9/8AAAAAAAAAAOP/7f8AAPf/4//t//f/4//j/wAA9//Z/9n/AAAAAO3/4//3/wAA4//t/wAA4//P/+P/4//j/+P/4//j//f/AAD3//f/9//3//f/9/8AAAAA9/8AAAkA9//3/wAAAAD3//f/7f/j//f/CQAAAAAAAAAAAPf/AAAJAAkAAAAAAAAAAAAAAAAAAAAAAAAAEwAdAAkAAAAAAAkACQAJAAkAAAAAAAAAAAAJAAkAAAAAAAAA9/8JAB0AEwAJAAkAAAATAB0AAAD3/xMAHQAJAAkAEwAdAB0ACQAAAAAA9//3/wAAAAAAAAAA9//j/9n/7f8AAAAAAAAAAPf/AAAAAAAAAAAAAO3/4//j/9n/z//j/+3/2f/P/+3/9//P/8//9/8AAPf/AADt/+P/4//j//f/AADj/+3/AAD3//f/AAAAAAAA9//3/wAAAAD3//f/AAAAAAkACQAAAAkACQAJAAAA4//t/wAAAAAAABMAHQAJAAkACQAAAAkACQAAAAAAAAAJAB0AEwAAAAAAAAAAAAAA9//j/+3/AAAAAAAAAAAAAAAA9/8AAAkAAAATABMA9//3/wkAAAAAAB0AEwAAAAkACQAAAAAA7f/t/wkACQAAAAAAAAAAAAkACQAAAAAAAAAAAAAAAAAAAAAAAAAJAAkA9/8AAAAA9/8AAAAAAAAAAPf/AAAAAPf/AAAAAAAAAAD3//f/AAAJAAkAAAAAAAAAAAAJAAkACQAJAAkACQAJAAkACQAJAPf/AAAxAB0A9/8AAB0AEwAJAAkACQAJAAkAAAATAB0AAAD3/wkACQATADsAOwAJAAAACQAJAAkAAAAAAAkAAAAAAAAA9//3/xMAHQAAAAAAAAAAAAAAAAAJAAAA2f/Z/wkACQAAAAAAAAAAAAAAAAAAAAAA9//3/wAA7f/j//f/9//3//f/AAAAAAAAAAAAAAAA7f/P/8X/4//j/8//2f/t//f/AADj/8//9/8JAOP/z//j/+P/4//j//f/9//3//f/CQDj/8//9//t/9n/4//3/wAAAAD3/+3/AAD3/8//7f8AAOP/7f8AAO3/z//Z//f/AADj/+P/4//j/+P/4//j//f/9/8AAAAA4//Z/+P/4//j/+3/AAAAAPf/7f/j/+P/4//j/+P/9//3/9n/4/8AAPf/4//3/wAA9/8AAAAAAAAAAAAAAAAAAAAAAAAAAAAAAAAAAAAAAAAAAAAAAAAAAAAAAAAAAAAAAAAAAAAAAAAAAAAAAAAAAAAAAAAAAAAAAAAAAAAAAAAAAAAAAAAAAAAAAAAAAAAAAAAAAAAAAAAAAAAAAAAAAAAAAAAAAAAAAAAAAAAAAAAAAAAAAAAAAAAAAAAAAAAAAAAAAAAAAAAAAAAAAAAAAAAAAAAAAAAAAAAAAAAAAAAAAAAAAAAAAAAAAAAAAAAAAAAAAAAAAAAAAAAAAAAAAAAAAAAAAAAAAAAAAAAAAAAAAAAAAAAAAAAAAAAAAAAAAAAAAAAAAAAAAAAAAAAAAAAAAAAAAAAAAAAAAAAAAAAAAAAAAAAAAAAAAAAAAAAAAAAAAAAAAAAAAAAAAAAAAAAAAAAAAAAAAAAAAAAAAAAAAAAAAAAAAAAAAAAAAAAAAAAAAAAAAAAAAAAAAAAAAAAAAAAAAAAAAAAAAAAAAAAAAAAAAAAAAAAAAAAAAAAAAAAAAAAAAAAAAAAAAAAAAAAAAAAAAAAAAAAAAAAAAAAAAAAAAAAAAAAAAAAAAAAAAAAAAAAAAAAAAAAAAAAAAAAAAAAAAAAAAAAAAAAAAAAAAAAAAAAAAAAAAAAAAAAAAAAAAAAAAAAAAAAAAAAAAAAAAAAAAAAAAAAAAAAAAAAAAAAAAAAAAAAAAAAAAAAAAAAAAAAAAAAAAAAAAAAAAAAAAAAAAAAAAAAAAAAAAAAAAAAAAAAAAAAAAAAAAAAAAAAAAAAAAAAAAAAAAAAAAAAAAAAAAAAAAAAAAAAAAAAAAAAAAAAAAAAAAAAAAAAAAAAAAAAAAAAAAAAAAAAAAAAAAAAAAAAAAAAAAAAAAAAAAAAAAAAAAAAAAAAAAAAAAAAAAAAAAAAAAAAAAAAAAAAAAAAAAAAAAAAAAAAAAAAAAAAAAAAAAAAAAAAAAAAAAAAAAAAAAAAAAAAAAAAAAAAAAAAAAAAAAAAAAAAAAAAAAAAAAAAAAAAAAAAAAAAAAAAAAAAAAAAAAAAAAAAAAAAAAAAAAAAAAAAAAAAAAAAAAAAAAAAAAAAAAAAAAAAAAAAAAAAAAAAAAAAAAAAAAAAAAAAAAAAAAAAAAAAAAAAAAAAAAAAAAAAAAAAAAAAAAAAAAAAAAAAAAAAAAAAAAAAAAAAAAAAAAAAAAAAAAAAAAAAAAAAAAAAAAAAAAAAAAAAAAAAAAAAAAAAAAAAAAAAAAAAAAAAAAAAAAAAAAAAAAAAAAAAAAAAAAAAAAAAAAAAAAAAAAAAAAAAAAAAAAAAAAAAAAAAAAAAAAAAAAAAAAAAAAAAAAAAAAAAAAAAAAAAAAAAAAAAAAAAAAAAAAAAAAAAAAAAAAAAAAAAAAAAAAAAAAAAAAAAAAAAAAAAAAAAAAAAAAAAAAAAAAAAAAAAAAAAAAAAAAAAAAAAAAAAAAAAAAAAAAAAAAAAAAAAAAAAAAAAAAAAAAAAAAAAAAAAAAAAAAAAAAAAAAAAAAAAAAAAAAAAAAAAAAAAAAAAAAAAAAAAAAAAAAAAAAAAAAAAAAAAAAAAAAAAAAAAAAAAAAAAAAAAAAAAAAAAAAAAAAAAAAAAAAAAAAAAAAAAAAAAAAAAAAAAAAAAAAAAAAAAAAAAAAAAAAAAAAAAAAAAAAAAAAAAAAAAAAAAAAAAAAAAAAAAAAAAAAAAAAAAAAAAAAAAAAAAAAAAAAAAAAAAAAAAAAAAAAAAAAAAAAAAAAAAAAAAAAAAAAAAAAAAAAAAAAAAAAAAAAAAAAAAAAAAAAAAAAAAAAAAAAAAAAAAAAAAAAAAAAAAAAAAAAAAAAAAAAAAAAAAAAAAAAAAAAAAAAAAAAAAAAAAAAAAAAAAAAAAAAAAAAAAAAAAAAAAAAAAAAAAAAAAAAAAAAAAAAAAAAAAAAAAAAAAAAAAAAAAAAAAAAAAAAAAAAAAAAAAAAAAAAAAAAAAAAAAAAAAAAAAAAAAAAAAAAAAAAAAAAAAAAAAAAAAAAAAAAAAAAAAAAAAAAAAAAAAAAAAAAAAAAAAAAAAAAAAAAAAAAAAAAAAAAAAAAAAAAAAAAAAAAAAAAAAAAAAAAAAAAAAAAAAAAAAAAAAAAAAAAAAAAAAAAAAAAAAAAAAAAAAAAAAAAAAAAAAAAAAAAAAAAAAAAAAAAAAAAAAAAAAAAAAAAAAAAAAAAAAAAAAAAAAAAAAAAAAAAAAAAAAAAAAAAAAAAAAAAAAAAAAAAAAAAAAAAAAAAAAAAAAAAAAAAAAAAAAAAAAAAAAAAAAAAAAAAAAAAAAAAAAAAAAAAAAAAAAAAAAAAAAAAAAAAAAAAAAAAAAAAAAAAAAAAAAAAAAAAAAAAAAAAAAAAAAAAAAAAAAAAAAAAAAAAAAAAAAAAAAAAAAAAAAAAAAAAAAAAAAAAAAAAAAAAAAAAAAAAAAAAAAAAAAAAAAAAAAAAAAAAAAAAAAAAAAAAAAAAAAAAAAAAAAAAAAAAAAAAAAAAAAAAAAAAAAAAAAAAAAAAAAAAAAAAAAAAAAAAAAAAAAAAAAAAAAAAAAAAAAAAAAAAAAAAAAAAAAAAAAAAAAAAAAAAAAAAAAAAAAAAAAAAAAAAAAAAAAAAAAAAAAAAAAAAAAAAAAAAAAAAAAAAAAAAAAAAAAAAAAAAAAAAAAAAAAAAAAAAAAAAAAAAAAAAAAAAAAAAAAAAAAAAAAAAAAAAAAAAAAAAAAAAAAAAAAAAAAAAAAAAAAAAAAAAAAAAAAAAAAAAAAAAAAAAAAAAAAAAAAAAAAAAAAAAAAAAAAAAAAAAAAAAAAAAAAAAAAAAAAAAAAAAAAAAAAAAAAAAAAAAAAAAAAAAAAAAAAAAAAAAAAAAAAAAAAAAAAAAAAAAAAAAAAAAAAAAAAAAAAAAAAAAAAAAAAAAAAAAAAAAAAAAAAAAAAAAAAAAAAAAAAAAAAAAAAAAAAAAAAAAAAAAAAAAAAAAAAAAAAAAAAAAAAAAAAAAAAAAAAAAAAAAAAAAAAAAAAAAAAAAAAAAAAAAAAAAAAAAAAAAAAAAAAAAAAAAAAAAAAAAAAAAAAAAAAAAAAAAAAAAAAAAAAAAAAAAAAAAAAAAAAAAAAAAAAAAAAAAAAAAAAAAAAAAAAAAAAAAAAAAAAAAAAAAAAAAAAAAAAAAAAAAAAAAAAAAAAAAAAAAAAAAAAAAAAAAAAAAAAAAAAAAAAAAAAAAAAAAAAAAAAAAAAAAAAAAAAAAAAAAAAAAAAAAAAAAAAAAAAAAAAAAAAAAAAAAAAAAAAAAAAAAAAAAAAAAAAAAAAAAAAAAAAAAAAAAAAAAAAAAAAAAAAAAAAAAAAAAAAAAAAAAAAAAAAAAAAAAAAAAAAAAAAAAAAAAAAAAAAAAAAAAAAAAAAAAAAAAAAAAAAAAAAAAAAAAAAAAAAAAAAAAAAAAAAAAAAAAAAAAAAAAAAAAAAAAAAAAAAAAAAAAAAAAAAAAAAAAAAAAAAAAAAAAAAAAAAAAAAAAAAAAAAAAAAAAAAAAAAAAAAAAAAAAAAAAAAAAAAAAAAAAAAAAAAAAAAAAAAAAAAAAAAAAAAAAAAAAAAAAAAAAAAAAAAAAAAAAAAAAAAAAAAAAAAAAAAAAAAAAAAAAAAAAAAAAAAAAAAAAAAAAAAAAAAAAAAAAAAAAAAAAAAAAAAAAAAAAAAAAAAAAAAAAAAAAAAAAAAAAAAAAAAAAAAAAAAAAAAAAAAAAAAAAAAAAAAAAAAAAAAAAAAAAAAAAAAAAAAAAAAAAAAAAAAAAAAAAAAAAAAAAAAAAAAAAAAAAAAAAAAAAAAAAAAAAAAAAAAAAAAAAAAAAAAAAAAAAAAAAAAAAAAAAAAAAAAAAAAAAAAAAAAAAAAAAAAAAAAAAAAAAAAAAAAAAAAAAAAAAAAAAAAAAAAAAAAAAAAAAAAAAAAAAAAAAAAAAAAAAAAAAAAAAAAAAAAAAAAAAAAAAAAAAAAAAAAAAAAAAAAAAAAAAAAAAAAAAAAAAAAAAAAAAAAAAAAAAAAAAAAAAAAAAAAAAAAAAAAAAAAAAAAAAAAAAAAAAAAAAAAAAAAAAAAAAAAAAAAAAAAAAAAAAAAAAAAAAAAAAAAAAAAAAAAAAAAAAAAAAAAAAAAAAAAAAAAAAAAAAAAAAAAAAAAAAAAAAAAAAAAAAAAAAAAAAAAAAAAAAAAAAAAAAAAAAAAAAAAAAAAAAAAAAAAAAAAAAAAAAAAAAAAAAAAAAAAAAAAAAAAAAAAAAAAAAAAAAAAAAAAAAAAAAAAAAAAAAAAAAAAAAAAAAAAAAAAAAAAAAAAAAAAAAAAAAAAAAAAAAAAAAAAAAAAAAAAAAAAAAAAAAAAAAAAAAAAAAAAAAAAAAAAAAAAAAAAAAAAAAAAAAAAAAAAAAAAAAAAAAAAAAAAAAAAAAAAAAAAAAAAAAAAAAAAAAAAAAAAAAAAAAAAAAAAAAAAAAAAAAAAAAAAAAAAAAAAAAAAAAAAAAAAAAAAAAAAAAAAAAAAAAAAAAAAAAAAAAAAAAAAAAAAAAAAAAAAAAAAAAAAAAAAAAAAAAAAAAAAAAAAAAAAAAAAAAAAAAAAAAAAAAAAAAAAAAAAAAAAAAAAAAAAAAAAAAAAAAAAAAAAAAAAAAAAAAAAAAAAAAAAAAAAAAAAAAAAAAAAAAAAAAAAAAAAAAAAAAAAAAAAAAAAAAAAAAAAAAAAAAAAAAAAAAAAAAAAAAAAAAAAAAAAAAAAAAAAAAAAAAAAAAAAAAAAAAAAAAAAAAAAAAAAAAAAAAAAAAAAAAAAAAAAAAAAAAAAAAAAAAAAAAAAAAAAAAAAAAAAAAAAAAAAAAAAAAAAAAAAAAAAAAAAAAAAAAAAAAAAAAAAAAAAAAAAAAAAAAAAAAAAAAAAAAAAAAAAAAAAAAAAAAAAAAAAAAAAAAAAAAAAAAAAAAAAAAAAAAAAAAAAAAAAAAAAAAAAAAAAAAAAAAAAAAAAAAAAAAAAAAAAAAAAAAAAAAAAAAAAAAAAAAAAAAAAAAAAAAAAAAAAAAAAAAAAAAAAAAAAAAAAAAAAAAAAAAAAAAAAAAAAAAAAAAAAAAAAAAAAAAAAAAAAAAAAAAAAAAAAAAAAAAAAAAAAAAAAAAAAAAAAAAAAAAAAAAAAAAAAAAAAAAAAAAAAAAAAAAAAAAAAAAAAAAAAAAAAAAAAAAAAAAAAAAAAAAAAAAAAAAAAAAAAAAAAAAAAAAAAAAAAAAAAAAAAAAAAAAAAAAAAAAAAAAAAAAAAAAAAAAAAAAAAAAAAAAAAAAAAAAAAAAAAAAAAAAAAAAAAAAAAAAAAAAAAAAAAAAAAAAAAAAAAAAAAAAAAAAAAAAAAAAAAAAAAAAAAAAAAAAAAAAAAAAAAAAAAAAAAAAAAAAAAAAAAAAAAAAAAAAAAAAAAAAAAAAAAAAAAAAAAAAAAAAAAAAAAAAAAAAAAAAAAAAAAAAAAAAAAAAAAAAAAAAAAAAAAAAAAAAAAAAAAAAAAAAAAAAAAAAAAAAAAAAAAAAAAAAAAAAAAAAAAAAAAAAAAAAAAAAAAAAAAAAAAAAAAAAAAAAAAAAAAAAAAAAAAAAAAAAAAAAAAAAAAAAAAAAAAAAAAAAAAAAAAAAAAAAAAAAAAAAAAAAAAAAAAAAAAAAAAAAAAAAAAAAAAAAAAAAAAAAAAAAAAAAAAAAAAAAAAAAAAAAAAAAAAAAAAAAAAAAAAAAAAAAAAAAAAAAAAAAAAAAAAAAAAAAAAAAAAAAAAAAAAAAAAAAAAAAAAAAAAAAAAAAAAAAAAAAAAAAAAAAAAAAAAAAAAAAAAAAAAAAAAAAAAAAAAAAAAAAAAAAAAAAAAAAAAAAAAAAAAAAAAAAAAAAAAAAAAAAAAAAAAAAAAAAAAAAAAAAAAAAAAAAAAAAAAAAAAAAAAAAAAAAAAAAAAAAAAAAAAAAAAAAAAAAAAAAAAAAAAAAAAAAAAAAAAAAAAAAAAAAAAAAAAAAAAAAAAAAAAAAAAAAAAAAAAAAAAAAAAAAAAAAAAAAAAAAAAAAAAAAAAAAAAAAAAAAAAAAAAAAAAAAAAAAAAAAAAAAAAAAAAAAAAAAAAAAAAAAAAAAAAAAAAAAAAAAAAAAAAAAAAAAAAAAAAAAAAAAAAAAAAAAAAAAAAAAAAAAAAAAAAAAAAAAAAAAAAAAAAAAAAAAAAAAAAAAAAAAAAAAAAAAAAAAAAAAAAAAAAAAAAAAAAAAAAAAAAAAAAAAAAAAAAAAAAAAAAAAAAAAAAAAAAAAAAAAAAAAAAAAAAAAAAAAAAAAAAAAAAAAAAAAAAAAAAAAAAAAAAAAAAAAAAAAAAAAAAAAAAAAAAAAAAAAAAAAAAAAAAAAAAAAAAAAAAAAAAAAAAAAAAAAAAAAAAAAAAAAAAAAAAAAAAAAAAAAAAAAAAAAAAAAAAAAAAAAAAAAAAAAAAAAAAAAAAAAAAAAAAAAAAAAAAAAAAAAAAAAAAAAAAAAAAAAAAAAAAAAAAAAAAAAAAAAAAAAAAAAAAAAAAAAAAAAAAAAAAAAAAAAAAAAAAAAAAAAAAAAAAAAAAAAAAAAAAAAAAAAAAAAAAAAAAAAAAAAAAAAAAAAAAAAAAAAAAAAAAAAAAAAAAAAAAAAAAAAAAAAAAAAAAAAAAAAAAAAAAAAAAAAAAAAAAAAAAAAAAAAAAAAAAAAAAAAAAAAAAAAAAAAAAAAAAAAAAAAAAAAAAAAAAAAAAAAAAAAAAAAAAAAAAAAAAAAAAAAAAAAAAAAAAAAAAAAAAAAAAAAAAAAAAAAAAAAAAAAAAAAAAAAAAAAAAAAAAAAAAAAAAAAAAAAAAAAAAAAAAAAAAAAAAAAAAAAAAAAAAAAAAAAAAAAAAAAAAAAAAAAAAAAAAAAAAAAAAAAAAAAAAAAAAAAAAAAAAAAAAAAAAAAAAAAAAAAAAAAAAAAAAAAAAAAAAAAAAAAAAAAAAAAAAAAAAAAAAAAAAAAAAAAAAAAAAAAAAAAAAAAAAAAAAAAAAAAAAAAAAAAAAAAAAAAAAAAAAAAAAAAAAAAAAAAAAAAAAAAAAAAAAAAAAAAAAAAAAAAAAAAAAAAAAAAAAAAAAAAAAAAAAAAAAAAAAAAAAAAAAAAAAAAAAAAAAAAAAAAAAAAAAAAAAAAAAAAAAAAAAAAAAAAAAAAAAAAAAAAAAAAAAAAAAAAAAAAAAAAAAAAAAAAAAAAAAAAAAAAAAAAAAAAAAAAAAAAAAAAAAAAAAAAAAAAAAAAAAAAAAAAAAAAAAAAAAAAAAAAAAAAAAAAAAAAAAAAAAAAAAAAAAAAAAAAAAAAAAAAAAAAAAAAAAAAAAAAAAAAAAAAAAAAAAAAAAAAAAAAAAAAAAAAAAAAAAAAAAAAAAAAAAAAAAAAAAAAAAAAAAAAAAAAAAAAAAAAAAAAAAAAAAAAAAAAAAAAAAAAAAAAAAAAAAAAAAAAAAAAAAAAAAAAAAAAAAAAAAAAAAAAAAAAAAAAAAAAAAAAAAAAAAAAAAAAAAAAAAAAAAAAAAAAAAAAAAAAAAAAAAAAAAAAAAAAAAAAAAAAAAAAAAAAAAAAAAAAAAAAAAAAAAAAAAAAAAAAAAAAAAAAAAAAAAAAAAAAAAAAAAAAAAAAAAAAAAAAAAAAAAAAAAAAAAAAAAAAAAAAAAAAAAAAAAAAAAAAAAAAAAAAAAAAAAAAAAAAAAAAAAAAAAAAAAAAAAAAAAAAAAAAAAAAAAAAAAAAAAAAAAAAAAAAAAAAAAAAAAAAAAAAAAAAAAAAAAAAAAAAAAAAAAAAAAAAAAAAAAAAAAAAAAAAAAAAAAAAAAAAAAAAAAAAAAAAAAAAAAAAAAAAAAAAAAAAAAAAAAAAAAAAAAAAAAAAAAAAAAAAAAAAAAAAAAAAAAAAAAAAAAAAAAAAAAAAAAAAAAAAAAAAAAAAAAAAAAAAAAAAAAAAAAAAAAAAAAAAAAAAAAAAAAAAAAAAAAAAAAAAAAAAAAAAAAAAAAAAAAAAAAAAAAAAAAAAAAAAAAAAAAAAAAAAAAAAAAAAAAAAAAAAAAAAAAAAAAAAAAAAAAAAAAAAAAAAAAAAAAAAAAAAAAAAAAAAAAAAAAAAAAAAAAAAAAAAAAAAAAAAAAAAAAAAAAAAAAAAAAAAAAAAAAAAAAAAAAAAAAAAAAAAAAAAAAAAAAAAAAAAAAAAAAAAAAAAAAAAAAAAAAAAAAAAAAAAAAAAAAAAAAAAAAAAAAAAAAAAAAAAAAAAAAAAAAAAAAAAAAAAAAAAAAAAAAAAAAAAAAAAAAAAAAAAAAAAAAAAAAAAAAAAAAAAAAAAAAAAAAAAAAAAAAAAAAAAAAAAAAAAAAAAAAAAAAAAAAAAAAAAAAAAAAAAAAAAAAAAAAAAAAAAAAAAAAAAAAAAAAAAAAAAAAAAAAAAAAAAAAAAAAAAAAAAAAAAAAAAAAAAAAAAAAAAAAAAAAAAAAAAAAAAAAAAAAAAAAAAAAAAAAAAAAAAAAAAAAAAAAAAAAAAAAAAAAAAAAAAAAAAAAAAAAAAAAAAAAAAAAAAAAAAAAAAAAAAAAAAAAAAAAAAAAAAAAAAAAAAAAAAAAAAAAAAAAAAAAAAAAAAAAAAAAAAAAAAAAAAAAAAAAAAAAAAAAAAAAAAAAAAAAAAAAAAAAAAAAAAAAAAAAAAAAAAAAAAAAAAAAAAAAAAAAAAAAAAAAAAAAAAAAAAAAAAAAAAAAAAAAAAAAAAAAAAAAAAAAAAAAAAAAAAAAAAAAAAAAAAAAAAAAAAAAAAAAAAAAAAAAAAAAAAAAAAAAAAAAAAAAAAAAAAAAAAAAAAAAAAAAAAAAAAAAAAAAAAAAAAAAAAAAAAAAAAAAAAAAAAAAAAAAAAAAAAAAAAAAAAAAAAAAAAAAAAAAAAAAAAAAAAAAAAAAAAAAAAAAAAAAAAAAAAAAAAAAAAAAAAAAAAAAAAAAAAAAAAAAAAAAAAAAAAAAAAAAAAAAAAAAAAAAAAAAAAAAAAAAAAAAAAAAAAAAAAAAAAAAAAAAAAAAAAAAAAAAAAAAAAAAAAAAAAAAAAAAAAAAAAAAAAAAAAAAAAAAAAAAAAAAAAAAAAAAAAAAAAAAAAAAAAAAAAAAAAAAAAAAAAAAAAAAAAAAAAAAAAAAAAAAAAAAAAAAAAAAAAAAAAAAAAAAAAAAAAAAAAAAAAAAAAAAAAAAAAAAAAAAAAAAAAAAAAAAAAAAAAAAAAAAAAAAAAAAAAAAAAAAAAAAAAAAAAAAAAAAAAAAAAAAAAAAAAAAAAAAAAAAAAAAAAAAAAAAAAAAAAAAAAAAAAAAAAAAAAAAAAAAAAAAAAAAAAAAAAAAAAAAAAAAAAAAAAAAAAAAAAAAAAAAAAAAAAAAAAAAAAAAAAAAAAAAAAAAAAAAAAAAAAAAAAAAAAAAAAAAAAAAAAAAAAAAAAAAAAAAAAAAAAAAAAAAAAAAAAAAAAAAAAAAAAAAAAAAAAAAAAAAAAAAAAAAAAAAAAAAAAAAAAAAAAAAAAAAAAAAAAAAAAAAAAAAAAAAAAAAAAAAAAAAAAAAAAAAAAAAAAAAAAAAAAAAAAAAAAAAAAAAAAAAAAAAAAAAAAAAAAAAAAAAAAAAAAAAAAAAAAAAAAAAAAAAAAAAAAAAAAAAAAAAAAAAAAAAAAAAAAAAAAAAAAAAAAAAAAAAAAAAAAAAAAAAAAAAAAAAAAAAAAAAAAAAAAAAAAAAAAAAAAAAAAAAAAAAAAAAAAAAAAAAAAAAAAAAAAAAAAAAAAAAAAAAAAAAAAAAAAAAAAAAAAAAAAAAAAAAAAAAAAAAAAAAAAAAAAAAAAAAAAAAAAAAAAAAAAAAAAAAAAAAAAAAAAAAAAAAAAAAAAAAAAAAAAAAAAAAAAAAAAAAAAAAAAAAAAAAAAAAAAAAAAAAAAAAAAAAAAAAAAAAAAAAAAAAAAAAAAAAAAAAAAAAAAAAAAAAAAAAAAAAAAAAAAAAAAAAAAAAAAAAAAAAAAAAAAAAAAAAAAAAAAAAAAAAAAAAAAAAAAAAAAAAAAAAAAAAAAAAAAAAAAAAAAAAAAAAAAAAAAAAAAAAAAAAAAAAAAAAAAAAAAAAAAAAAAAAAAAAAAAAAAAAAAAAAAAAAAAAAAAAAAAAAAAAAAAAAAAAAAAAAAAAAAAAAAAAAAAAAAAAAAAAAAAAAAAAAAAAAAAAAAAAAAAAAAAAAAAAAAAAAAAAAAAAAAAAAAAAAAAAAAAAAAAAAAAAAAAAAAAAAAAAAAAAAAAAAAAAAAAAAAAAAAAAAAAAAAAAAAAAAAAAAAAAAAAAAAAAAAAAAAAAAAAAAAAAAAAAAAAAAAAAAAAAAAAAAAAAAAAAAAAAAAAAAAAAAAAAAAAAAAAAAAAAAAAAAAAAAAAAAAAAAAAAAAAAAAAAAAAAAAAAAAAAAAAAAAAAAAAAAAAAAAAAAAAAAAAAAAAAAAAAAAAAAAAAAAAAAAAAAAAAAAAAAAAAAAAAAAAAAAAAAAAAAAAAAAAAAAAAAAAAAAAAAAAAAAAAAAAAAAAAAAAAAAAAAAAAAAAAAAAAAAAAAAAAAAAAAAAAAAAAAAAAAAAAAAAAAAAAAAAAAAAAAAAAAAAAAAAAAAAAAAAAAAAAAAAAAAAAAAAAAAAAAAAAAAAAAAAAAAAAAAAAAAAAAAAAAAAAAAAAAAAAAAAAAAAAAAAAAAAAAAAAAAAAAAAAAAAAAAAAAAAAAAAAAAAAAAAAAAAAAAAAAAAAAAAAAAAAAAAAAAAAAAAAAAAAAAAAAAAAAAAAAAAAAAAAAAAAAAAAAAAAAAAAAAAAAAAAAAAAAAAAAAAAAAAAAAAAAAAAAAAAAAAAAAAAAAAAAAAAAAAAAAAAAAAAAAAAAAAAAAAAAAAAAAAAAAAAAAAAAAAAAAAAAAAAAAAAAAAAAAAAAAAAAAAAAAAAAAAAAAAAAAAAAAAAAAAAAAAAAAAAAAAAAAAAAAAAAAAAAAAAAAAAAAAAAAAAAAAAAAAAAAAAAAAAAAAAAAAAAAAAAAAAAAAAAAAAAAAAAAAAAAAAAAAAAAAAAAAAAAAAAAAAAAAAAAAAAAAAAAAAAAAAAAAAAAAAAAAAAAAAAAAAAAAAAAAAAAAAAAAAAAAAAAAAAAAAAAAAAAAAAAAAAAAAAAAAAAAAAAAAAAAAAAAAAAAAAAAAAAAAAAAAAAAAAAAAAAAAAAAAAAAAAAAAAAAAAAAAAAAAAAAAAAAAAAAAAAAAAAAAAAAAAAAAAAAAAAAAAAAAAAAAAAAAAAAAAAAAAAAAAAAAAAAAAAAAAAAAAAAAAAAAAAAAAAAAAAAAAAAAAAAAAAAAAAAAAAAAAAAAAAAAAAAAAAAAAAAAAAAAAAAAAAAAAAAAAAAAAAAAAAAAAAAAAAAAAAAAAAAAAAAAAAAAAAAAAAAAAAAAAAAAAAAAAAAAAAAAAAAAAAAAAAAAAAAAAAAAAAAAAAAAAAAAAAAAAAAAAAAAAAAAAAAAAAAAAAAAAAAAAAAAAAAAAAAAAAAAAAAAAAAAAAAAAAAAAAAAAAAAAAAAAAAAAAAAAAAAAAAAAAAAAAAAAAAAAAAAAAAAAAAAAAAAAAAAAAAAAAAAAAAAAAAAAAAAAAAAAAAAAAAAAAAAAAAAAAAAAAAAAAAAAAAAAAAAAAAAAAAAAAAAAAAAAAAAAAAAAAAAAAAAAAAAAAAAAAAAAAAAAAAAAAAAAAAAAAAAAAAAAAAAAAAAAAAAAAAAAAAAAAAAAAAAAAAAAAAAAAAAAAAAAAAAAAAAAAAAAAAAAAAAAAAAAAAAAAAAAAAAAAAAAAAAAAAAAAAAAAAAAAAAAAAAAAAAAAAAAAAAAAAAAAAAAAAAAAAAAAAAAAAAAAAAAAAAAAAAAAAAAAAAAAAAAAAAAAAAAAAAAAAAAAAAAAAAAAAAAAAAAAAAAAAAAAAAAAAAAAAAAAAAAAAAAAAAAAAAAAAAAAAAAAAAAAAAAAAAAAAAAAAAAAAAAAAAAAAAAAAAAAAAAAAAAAAAAAAAAAAAAAAAAAAAAAAAAAAAAAAAAAAAAAAAAAAAAAAAAAAAAAAAAAAAAAAAAAAAAAAAAAAAAAAAAAAAAAAAAAAAAAAAAAAAAAAAAAAAAAAAAAAAAAAAAAAAAAAAAAAAAAAAAAAAAAAAAAAAAAAAAAAAAAAAAAAAAAAAAAAAAAAAAAAAAAAAAAAAAAAAAAAAAAAAAAAAAAAAAAAAAAAAAAAAAAAAAAAAAAAAAAAAAAAAAAAAAAAAAAAAAAAAAAAAAAAAAAAAAAAAAAAAAAAAAAAAAAAAAAAAAAAAAAAAAAAAAAAAAAAAAAAAAAAAAAAAAAAAAAAAAAAAAAAAAAAAAAAAAAAAAAAAAAAAAAAAAAAAAAAAAAAAAAAAAAAAAAAAAAAAAAAAAAAAAAAAAAAAAAAAAAAAAAAAAAAAAAAAAAAAAAAAAAAAAAAAAAAAAAAAAAAAAAAAAAAAAAAAAAAAAAAAAAAAAAAAAAAAAAAAAAAAAAAAAAAAAAAAAAAAAAAAAAAAAAAAAAAAAAAAAAAAAAAAAAAAAAAAAAAAAAAAAAAAAAAAAAAAAAAAAAAAAAAAAAAAAAAAAAAAAAAAAAAAAAAAAAAAAAAAAAAAAAAAAAAAAAAAAAAAAAAAAAAAAAAAAAAAAAAAAAAAAAAAAAAAAAAAAAAAAAAAAAAAAAAAAAAAAAAAAAAAAAAAAAAAAAAAAAAAAAAAAAAAAAAAAAAAAAAAAAAAAAAAAAAAAAAAAAAAAAAAAAAAAAAAAAAAAAAAAAAAAAAAAAAAAAAAAAAAAAAAAAAAAAAAAAAAAAAAAAAAAAAAAAAAAAAAAAAAAAAAAAAAAAAAAAAAAAAAAAAAAAAAAAAAAAAAAAAAAAAAAAAAAAAAAAAAAAAAAAAAAAAAAAAAAAAAAAAAAAAAAAAAAAAAAAAAAAAAAAAAAAAAAAAAAAAAAAAAAAAAAAAAAAAAAAAAAAAAAAAAAAAAAAAAAAAAAAAAAAAAAAAAAAAAAAAAAAAAAAAAAAAAAAAAAAAAAAAAAAAAAAAAAAAAAAAAAAAAAAAAAAAAAAAAAAAAAAAAAAAAAAAAAAAAAAAAAAAAAAAAAAAAAAAAAAAAAAAAAAAAAAAAAAAAAAAAAAAAAAAAAAAAAAAAAAAAAAAAAAAAAAAAAAAAAAAAAAAAAAAAAAAAAAAAAAAAAAAAAAAAAAAAAAAAAAAAAAAAAAAAAAAAAAAAAAAAAAAAAAAAAAAAAAAAAAAAAAAAAAAAAAAAAAAAAAAAAAAAAAAAAAAAAAAAAAAAAAAAAAAAAAAAAAAAAAAAAAAAAAAAAAAAAAAAAAAAAAAAAAAAAAAAAAAAAAAAAAAAAAAAAAAAAAAAAAAAAAAAAAAAAAAAAAAAAAAAAAAAAAAAAAAAAAAAAAAAAAAAAAAAAAAAAAAAAAAAAAAAAAAAAAAAAAAAAAAAAAAAAAAAAAAAAAAAAAAAAAAAAAAAAAAAAAAAAAAAAAAAAAAAAAAAAAAAAAAAAAAAAAAAAAAAAAAAAAAAAAAAAAAAAAAAAAAAAAAAAAAAAAAAAAAAAAAAAAAAAAAAAAAAAAAAAAAAAAAAAAAAAAAAAAAAAAAAAAAAAAAAAAAAAAAAAAAAAAAAAAAAAAAAAAAAAAAAAAAAAAAAAAAAAAAAAAAAAAAAAAAAAAAAAAAAAAAAAAAAAAAAAAAAAAAAAAAAAAAAAAAAAAAAAAAAAAAAAAAAAAAAAAAAAAAAAAAAAAAAAAAAAAAAAAAAAAAAAAAAAAAAAAAAAAAAAAAAAAAAAAAAAAAAAAAAAAAAAAAAAAAAAAAAAAAAAAAAAAAAAAAAAAAAAAAAAAAAAAAAAAAAAAAAAAAAAAAAAAAAAAAAAAAAAAAAAAAAAAAAAAAAAAAAAAAAAAAAAAAAAAAAAAAAAAAAAAAAAAAAAAAAAAAAAAAAAAAAAAAAAAAAAAAAAAAAAAAAAAAAAAAAAAAAAAAAAAAAAAAAAAAAAAAAAAAAAAAAAAAAAAAAAAAAAAAAAAAAAAAAAAAAAAAAAAAAAAAAAAAAAAAAAAAAAAAAAAAAAAAAAAAAAAAAAAAAAAAAAAAAAAAAAAAAAAAAAAAAAAAAAAAAAAAAAAAAAAAAAAAAAAAAAAAAAAAAAAAAAAAAAAAAAAAAAAAAAAAAAAAAAAAAAAAAAAAAAAAAAAAAAAAAAAAAAAAAAAAAAAAAAAAAAAAAAAAAAAAAAAAAAAAAAAAAAAAAAAAAAAAAAAAAAAAAAAAAAAAAAAAAAAAAAAAAAAAAAAAAAAAAAAAAAAAAAAAAAAAAAAAAAAAAAAAAAAAAAAAAAAAAAAAAAAAAAAAAAAAAAAAAAAAAAAAAAAAAAAAAAAAAAAAAAAAAAAAAAAAAAAAAAAAAAAAAAAAAAAAAAAAAAAAAAAAAAAAAAAAAAAAAAAAAAAAAAAAAAAAAAAAAAAAAAAAAAAAAAAAAAAAAAAAAAAAAAAAAAAAAAAAAAAAAAAAAAAAAAAAAAAAAAAAAAAAAAAAAAAAAAAAAAAAAAAAAAAAAAAAAAAAAAAAAAAAAAAAAAAAAAAAAAAAAAAAAAAAAAAAAAAAAAAAAAAAAAAAAAAAAAAAAAAAAAAAAAAAAAAAAAAAAAAAAAAAAAAAAAAAAAAAAAAAAAAAAAAAAAAAAAAAAAAAAAAAAAAAAAAAAAAAAAAAAAAAAAAAAAAAAAAAAAAAAAAAAAAAAAAAAAAAAAAAAAAAAAAAAAAAAAAAAAAAAAAAAAAAAAAAAAAAAAAAAAAAAAAAAAAAAAAAAAAAAAAAAAAAAAAAAAAAAAAAAAAAAAAAAAAAAAAAAAAAAAAAAAAAAAAAAAAAAAAAAAAAAAAAAAAAAAAAAAAAAAAAAAAAAAAAAAAAAAAAAAAAAAAAAAAAAAAAAAAAAAAAAAAAAAAAAAAAAAAAAAAAAAAAAAAAAAAAAAAAAAAAAAAAAAAAAAAAAAAAAAAAAAAAAAAAAAAAAAAAAAAAAAAAAAAAAAAAAAAAAAAAAAAAAAAAAAAAAAAAAAAAAAAAAAAAAAAAAAAAAAAAAAAAAAAAAAAAAAAAAAAAAAAAAAAAAAAAAAAAAAAAAAAAAAAAAAAAAAAAAAAAAAAAAAAAAAAAAAAAAAAAAAAAAAAAAAAAAAAAAAAAAAAAAAAAAAAAAAAAAAAAAAAAAAAAAAAAAAAAAAAAAAAAAAAAAAAAAAAAAAAAAAAAAAAAAAAAAAAAAAAAAAAAAAAAAAAAAAAAAAAAAAAAAAAAAAAAAAAAAAAAAAAAAAAAAAAAAAAAAAAAAAAAAAAAAAAAAAAAAAAAAAAAAAAAAAAAAAAAAAAAAAAAAAAAAAAAAAAAAAAAAAAAAAAAAAAAAAAAAAAAAAAAAAAAAAAAAAAAAAAAAAAAAAAAAAAAAAAAAAAAAAAAAAAAAAAAAAAAAAAAAAAAAAAAAAAAAAAAAAAAAAAAAAAAAAAAAAAAAAAAAAAAAAAAAAAAAAAAAAAAAAAAAAAAAAAAAAAAAAAAAAAAAAAAAAAAAAAAAAAAAAAAAAAAAAAAAAAAAAAAAAAAAAAAAAAAAAAAAAAAAAAAAAAAAAAAAAAAAAAAAAAAAAAAAAAAAAAAAAAAAAAAAAAAAAAAAAAAAAAAAAAAAAAAAAAAAAAAAAAAAAAAAAAA==\" type=\"audio/wav\" />\n",
              "                    Your browser does not support the audio element.\n",
              "                </audio>\n",
              "              "
            ]
          },
          "metadata": {}
        }
      ],
      "source": [
        "prediction = model(x)\n",
        "print(f'Prediction: {tf.round(prediction).numpy()} (0=Non-Wake Word, 1=Wake Word)')\n",
        "display.display(display.Audio(waveform, rate=16000))\n"
      ]
    },
    {
      "cell_type": "code",
      "execution_count": null,
      "metadata": {
        "id": "TIlqUNjvuuls"
      },
      "outputs": [],
      "source": [
        "class ExportModel(tf.Module):\n",
        "    def __init__(self, model):\n",
        "        self.model = model\n",
        "        self.__call__.get_concrete_function(\n",
        "            x=tf.TensorSpec(shape=(), dtype=tf.string))\n",
        "        self.__call__.get_concrete_function(\n",
        "           x=tf.TensorSpec(shape=[None, 16000], dtype=tf.float32))"
      ]
    },
    {
      "cell_type": "code",
      "execution_count": null,
      "metadata": {
        "id": "MqDHXymPPnMw"
      },
      "outputs": [],
      "source": [
        "class ExportModel(tf.Module):\n",
        "  def __init__(self, model):\n",
        "    self.model = model\n",
        "    self.__call__.get_concrete_function(x=tf.TensorSpec(shape=(), dtype=tf.string))\n",
        "    self.__call__.get_concrete_function(x=tf.TensorSpec(shape=[None, 16000], dtype=tf.float32))\n",
        "\n",
        "  @tf.function\n",
        "  def __call__(self, x):\n",
        "    if x.dtype == tf.string:\n",
        "      x = tf.io.read_file(x)\n",
        "      x, _ = tf.audio.decode_wav(x, desired_channels=1, desired_samples=16000,)\n",
        "      x = tf.squeeze(x, axis=-1)\n",
        "      x = x[tf.newaxis, :]\n",
        "\n",
        "    x = get_spectrogram(x)\n",
        "    result = self.model(x, training=False)\n",
        "\n",
        "    class_id = tf.round(result)  # Output 0 or 1\n",
        "    return {'predictions': result, 'class_id': class_id}\n"
      ]
    },
    {
      "cell_type": "code",
      "source": [
        "export = ExportModel(model)\n",
        "tf.saved_model.save(export, \"saved_model\")\n",
        "\n",
        "imported = tf.saved_model.load(\"saved_model\")\n",
        "imported(waveform[tf.newaxis, :])\n",
        "\n",
        "\n",
        "model.save('my_model.keras')"
      ],
      "metadata": {
        "colab": {
          "base_uri": "https://localhost:8080/",
          "height": 463
        },
        "id": "2HRhFyHce2JQ",
        "outputId": "795c5c8e-5ee7-4336-d18b-3b3a764ff1ec"
      },
      "execution_count": null,
      "outputs": [
        {
          "output_type": "stream",
          "name": "stderr",
          "text": [
            "WARNING:absl:You are saving your model as an HDF5 file via `model.save()` or `keras.saving.save_model(model)`. This file format is considered legacy. We recommend using instead the native Keras format, e.g. `model.save('my_model.keras')` or `keras.saving.save_model(model, 'my_model.keras')`. \n"
          ]
        },
        {
          "output_type": "error",
          "ename": "ValueError",
          "evalue": "Unable to synchronously create group (name already exists)",
          "traceback": [
            "\u001b[0;31m---------------------------------------------------------------------------\u001b[0m",
            "\u001b[0;31mValueError\u001b[0m                                Traceback (most recent call last)",
            "\u001b[0;32m<ipython-input-44-e0524cb5df4c>\u001b[0m in \u001b[0;36m<cell line: 8>\u001b[0;34m()\u001b[0m\n\u001b[1;32m      6\u001b[0m \u001b[0;34m\u001b[0m\u001b[0m\n\u001b[1;32m      7\u001b[0m \u001b[0;34m\u001b[0m\u001b[0m\n\u001b[0;32m----> 8\u001b[0;31m \u001b[0mmodel\u001b[0m\u001b[0;34m.\u001b[0m\u001b[0msave\u001b[0m\u001b[0;34m(\u001b[0m\u001b[0;34m'my_model.h5'\u001b[0m\u001b[0;34m)\u001b[0m\u001b[0;34m\u001b[0m\u001b[0;34m\u001b[0m\u001b[0m\n\u001b[0m",
            "\u001b[0;32m/usr/local/lib/python3.10/dist-packages/keras/src/utils/traceback_utils.py\u001b[0m in \u001b[0;36merror_handler\u001b[0;34m(*args, **kwargs)\u001b[0m\n\u001b[1;32m    120\u001b[0m             \u001b[0;31m# To get the full stack trace, call:\u001b[0m\u001b[0;34m\u001b[0m\u001b[0;34m\u001b[0m\u001b[0m\n\u001b[1;32m    121\u001b[0m             \u001b[0;31m# `keras.config.disable_traceback_filtering()`\u001b[0m\u001b[0;34m\u001b[0m\u001b[0;34m\u001b[0m\u001b[0m\n\u001b[0;32m--> 122\u001b[0;31m             \u001b[0;32mraise\u001b[0m \u001b[0me\u001b[0m\u001b[0;34m.\u001b[0m\u001b[0mwith_traceback\u001b[0m\u001b[0;34m(\u001b[0m\u001b[0mfiltered_tb\u001b[0m\u001b[0;34m)\u001b[0m \u001b[0;32mfrom\u001b[0m \u001b[0;32mNone\u001b[0m\u001b[0;34m\u001b[0m\u001b[0;34m\u001b[0m\u001b[0m\n\u001b[0m\u001b[1;32m    123\u001b[0m         \u001b[0;32mfinally\u001b[0m\u001b[0;34m:\u001b[0m\u001b[0;34m\u001b[0m\u001b[0;34m\u001b[0m\u001b[0m\n\u001b[1;32m    124\u001b[0m             \u001b[0;32mdel\u001b[0m \u001b[0mfiltered_tb\u001b[0m\u001b[0;34m\u001b[0m\u001b[0;34m\u001b[0m\u001b[0m\n",
            "\u001b[0;32m/usr/local/lib/python3.10/dist-packages/h5py/_hl/group.py\u001b[0m in \u001b[0;36mcreate_group\u001b[0;34m(self, name, track_order)\u001b[0m\n\u001b[1;32m     62\u001b[0m             \u001b[0mname\u001b[0m\u001b[0;34m,\u001b[0m \u001b[0mlcpl\u001b[0m \u001b[0;34m=\u001b[0m \u001b[0mself\u001b[0m\u001b[0;34m.\u001b[0m\u001b[0m_e\u001b[0m\u001b[0;34m(\u001b[0m\u001b[0mname\u001b[0m\u001b[0;34m,\u001b[0m \u001b[0mlcpl\u001b[0m\u001b[0;34m=\u001b[0m\u001b[0;32mTrue\u001b[0m\u001b[0;34m)\u001b[0m\u001b[0;34m\u001b[0m\u001b[0;34m\u001b[0m\u001b[0m\n\u001b[1;32m     63\u001b[0m             \u001b[0mgcpl\u001b[0m \u001b[0;34m=\u001b[0m \u001b[0mGroup\u001b[0m\u001b[0;34m.\u001b[0m\u001b[0m_gcpl_crt_order\u001b[0m \u001b[0;32mif\u001b[0m \u001b[0mtrack_order\u001b[0m \u001b[0;32melse\u001b[0m \u001b[0;32mNone\u001b[0m\u001b[0;34m\u001b[0m\u001b[0;34m\u001b[0m\u001b[0m\n\u001b[0;32m---> 64\u001b[0;31m             \u001b[0mgid\u001b[0m \u001b[0;34m=\u001b[0m \u001b[0mh5g\u001b[0m\u001b[0;34m.\u001b[0m\u001b[0mcreate\u001b[0m\u001b[0;34m(\u001b[0m\u001b[0mself\u001b[0m\u001b[0;34m.\u001b[0m\u001b[0mid\u001b[0m\u001b[0;34m,\u001b[0m \u001b[0mname\u001b[0m\u001b[0;34m,\u001b[0m \u001b[0mlcpl\u001b[0m\u001b[0;34m=\u001b[0m\u001b[0mlcpl\u001b[0m\u001b[0;34m,\u001b[0m \u001b[0mgcpl\u001b[0m\u001b[0;34m=\u001b[0m\u001b[0mgcpl\u001b[0m\u001b[0;34m)\u001b[0m\u001b[0;34m\u001b[0m\u001b[0;34m\u001b[0m\u001b[0m\n\u001b[0m\u001b[1;32m     65\u001b[0m             \u001b[0;32mreturn\u001b[0m \u001b[0mGroup\u001b[0m\u001b[0;34m(\u001b[0m\u001b[0mgid\u001b[0m\u001b[0;34m)\u001b[0m\u001b[0;34m\u001b[0m\u001b[0;34m\u001b[0m\u001b[0m\n\u001b[1;32m     66\u001b[0m \u001b[0;34m\u001b[0m\u001b[0m\n",
            "\u001b[0;32mh5py/_objects.pyx\u001b[0m in \u001b[0;36mh5py._objects.with_phil.wrapper\u001b[0;34m()\u001b[0m\n",
            "\u001b[0;32mh5py/_objects.pyx\u001b[0m in \u001b[0;36mh5py._objects.with_phil.wrapper\u001b[0;34m()\u001b[0m\n",
            "\u001b[0;32mh5py/h5g.pyx\u001b[0m in \u001b[0;36mh5py.h5g.create\u001b[0;34m()\u001b[0m\n",
            "\u001b[0;31mValueError\u001b[0m: Unable to synchronously create group (name already exists)"
          ]
        }
      ]
    },
    {
      "cell_type": "code",
      "execution_count": null,
      "metadata": {
        "id": "ru7nDIgbuxV2"
      },
      "outputs": [],
      "source": []
    }
  ],
  "metadata": {
    "colab": {
      "provenance": [],
      "gpuType": "T4",
      "authorship_tag": "ABX9TyMyPDQauPI46PNbg2ELkQqs",
      "include_colab_link": true
    },
    "kernelspec": {
      "display_name": "Python 3",
      "name": "python3"
    },
    "language_info": {
      "name": "python"
    },
    "accelerator": "GPU"
  },
  "nbformat": 4,
  "nbformat_minor": 0
}